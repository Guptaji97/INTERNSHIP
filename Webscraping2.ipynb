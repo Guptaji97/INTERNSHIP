{
 "cells": [
  {
   "cell_type": "markdown",
   "id": "08461af7",
   "metadata": {},
   "source": [
    "#### Q1: Write a python program to scrape data for “Data Analyst” Job position in “Bangalore” location. You have to scrape the job-title, job-location, company_name, experience_required. You have to scrape first 10 jobs data. This task will be done in following steps: 1. First get the webpage https://www.naukri.com/ 2. Enter “Data Analyst” in “Skill, Designations, Companies” field and enter “Bangalore” in “enter the location” field. 3. Then click the search button. 4. Then scrape the data for the first 10 jobs results you get. 5. Finally create a dataframe of the scraped data."
   ]
  },
  {
   "cell_type": "code",
   "execution_count": 16,
   "id": "ef1f6622",
   "metadata": {},
   "outputs": [],
   "source": [
    "import selenium\n",
    "import pandas as pd\n",
    "from selenium import webdriver\n",
    "import time\n",
    "import warnings\n",
    "warnings.filterwarnings(\"ignore\")"
   ]
  },
  {
   "cell_type": "code",
   "execution_count": 17,
   "id": "f960223a",
   "metadata": {},
   "outputs": [],
   "source": [
    "driver= webdriver.Chrome(r'C:\\Users\\amang\\chromedriver_win32\\chromedriver.exe') #defining webdriver"
   ]
  },
  {
   "cell_type": "code",
   "execution_count": 18,
   "id": "f9862125",
   "metadata": {},
   "outputs": [],
   "source": [
    "url=\"https://www.naukri.com/\"\n",
    "driver.get(url)\n",
    "driver.maximize_window()   #Maximize window\n",
    "\n",
    "job= driver.find_element(\"xpath\",\"/html/body/div[1]/div[6]/div/div/div[1]/div/div/div/input\")    # adding input as Data analyst\n",
    "job.send_keys(\"Data Analyst\")           \n",
    "\n",
    "loc= driver.find_element(\"xpath\",\"/html/body/div[1]/div[6]/div/div/div[5]/div/div/div/input\")    # adding location\n",
    "loc.send_keys(\"Banglore\")\n",
    "\n",
    "srch= driver.find_element(\"xpath\",\"/html/body/div[1]/div[6]/div/div/div[6]\")    # click search button\n",
    "srch.click()\n",
    "time.sleep(3)    # wait 3s to load"
   ]
  },
  {
   "cell_type": "code",
   "execution_count": 19,
   "id": "1309f7b5",
   "metadata": {},
   "outputs": [],
   "source": [
    "title=[]\n",
    "t= driver.find_elements(\"xpath\",'//a[@class=\"title fw500 ellipsis\"]')    # get job titles\n",
    "for i in range(0,10):\n",
    "    title.append(t[i].text)"
   ]
  },
  {
   "cell_type": "code",
   "execution_count": 20,
   "id": "b3fca3cc",
   "metadata": {},
   "outputs": [],
   "source": [
    "comp=[]\n",
    "c= driver.find_elements(\"xpath\",'//a[@class=\"subTitle ellipsis fleft\"]')   # get company names\n",
    "for i in range(0,10):\n",
    "    comp.append(c[i].text)"
   ]
  },
  {
   "cell_type": "code",
   "execution_count": 21,
   "id": "68e2ac81",
   "metadata": {},
   "outputs": [],
   "source": [
    "exp=[]\n",
    "e=driver.find_elements(\"xpath\",'//span[@class=\"ellipsis fleft fs12 lh16 expwdth\"]')   #get experience requirements\n",
    "for i in range(0,10):\n",
    "    exp.append(e[i].text)"
   ]
  },
  {
   "cell_type": "code",
   "execution_count": 22,
   "id": "e5622f71",
   "metadata": {},
   "outputs": [],
   "source": [
    "loc=[]\n",
    "l= driver.find_elements(\"xpath\",'//span[@class=\"ellipsis fleft fs12 lh16 locWdth\"]')    #get location\n",
    "for i in range(0,10):\n",
    "    loc.append(l[i].text)"
   ]
  },
  {
   "cell_type": "code",
   "execution_count": 23,
   "id": "765369ca",
   "metadata": {},
   "outputs": [],
   "source": [
    "tim=[]\n",
    "s= driver.find_elements(\"xpath\",'//span[@class=\"fleft fw500\"]')    #get timestamp\n",
    "for i in range(0,10):\n",
    "    tim.append(s[i].text)"
   ]
  },
  {
   "cell_type": "code",
   "execution_count": 24,
   "id": "4a6a86fd",
   "metadata": {},
   "outputs": [
    {
     "name": "stdout",
     "output_type": "stream",
     "text": [
      "10 10 10 10 10\n"
     ]
    }
   ],
   "source": [
    "print(len(title),len(comp),len(exp),len(loc),len(tim))   #checking the length of obtained data"
   ]
  },
  {
   "cell_type": "code",
   "execution_count": 25,
   "id": "92bbeaa4",
   "metadata": {},
   "outputs": [
    {
     "data": {
      "text/html": [
       "<div>\n",
       "<style scoped>\n",
       "    .dataframe tbody tr th:only-of-type {\n",
       "        vertical-align: middle;\n",
       "    }\n",
       "\n",
       "    .dataframe tbody tr th {\n",
       "        vertical-align: top;\n",
       "    }\n",
       "\n",
       "    .dataframe thead th {\n",
       "        text-align: right;\n",
       "    }\n",
       "</style>\n",
       "<table border=\"1\" class=\"dataframe\">\n",
       "  <thead>\n",
       "    <tr style=\"text-align: right;\">\n",
       "      <th></th>\n",
       "      <th>Job Title</th>\n",
       "      <th>Company name</th>\n",
       "      <th>Experience Required</th>\n",
       "      <th>Location</th>\n",
       "      <th>Timestamp</th>\n",
       "    </tr>\n",
       "  </thead>\n",
       "  <tbody>\n",
       "    <tr>\n",
       "      <th>0</th>\n",
       "      <td>Senior Data Analyst II</td>\n",
       "      <td>Flipkart</td>\n",
       "      <td>2-4 Yrs</td>\n",
       "      <td>Bangalore/Bengaluru</td>\n",
       "      <td>1 DAY AGO</td>\n",
       "    </tr>\n",
       "    <tr>\n",
       "      <th>1</th>\n",
       "      <td>Data Analyst, Business Analyst</td>\n",
       "      <td>Clinilaunch Research Institute Llp</td>\n",
       "      <td>0-5 Yrs</td>\n",
       "      <td>Bangalore/Bengaluru(HSR Layout +1)</td>\n",
       "      <td>1 DAY AGO</td>\n",
       "    </tr>\n",
       "    <tr>\n",
       "      <th>2</th>\n",
       "      <td>Data Analyst</td>\n",
       "      <td>Treebo Hotels</td>\n",
       "      <td>1-5 Yrs</td>\n",
       "      <td>Temp. WFH - Bangalore/Bengaluru</td>\n",
       "      <td>JUST NOW</td>\n",
       "    </tr>\n",
       "    <tr>\n",
       "      <th>3</th>\n",
       "      <td>Data Analyst</td>\n",
       "      <td>Cargill</td>\n",
       "      <td>2-4 Yrs</td>\n",
       "      <td>Bangalore/Bengaluru</td>\n",
       "      <td>6 DAYS AGO</td>\n",
       "    </tr>\n",
       "    <tr>\n",
       "      <th>4</th>\n",
       "      <td>Data Analyst / Product Analyst / Business Analyst</td>\n",
       "      <td>Benchire</td>\n",
       "      <td>2-5 Yrs</td>\n",
       "      <td>Bangalore/Bengaluru, Delhi / NCR</td>\n",
       "      <td>5 DAYS AGO</td>\n",
       "    </tr>\n",
       "    <tr>\n",
       "      <th>5</th>\n",
       "      <td>Senior Data Analyst - Data Modeling/Quality</td>\n",
       "      <td>Get My Parking</td>\n",
       "      <td>4-9 Yrs</td>\n",
       "      <td>Bangalore/Bengaluru</td>\n",
       "      <td>5 DAYS AGO</td>\n",
       "    </tr>\n",
       "    <tr>\n",
       "      <th>6</th>\n",
       "      <td>Senior Data Analyst</td>\n",
       "      <td>Yallas Technology Solutions Opc</td>\n",
       "      <td>2-7 Yrs</td>\n",
       "      <td>Kolkata, Hyderabad/Secunderabad, Pune, Ahmedab...</td>\n",
       "      <td>JUST NOW</td>\n",
       "    </tr>\n",
       "    <tr>\n",
       "      <th>7</th>\n",
       "      <td>Sr . Data Analyst</td>\n",
       "      <td>Aidash Systems</td>\n",
       "      <td>3-8 Yrs</td>\n",
       "      <td>Bangalore/Bengaluru</td>\n",
       "      <td>1 DAY AGO</td>\n",
       "    </tr>\n",
       "    <tr>\n",
       "      <th>8</th>\n",
       "      <td>Data Analyst</td>\n",
       "      <td>CGI</td>\n",
       "      <td>0-2 Yrs</td>\n",
       "      <td>Bangalore/Bengaluru</td>\n",
       "      <td>13 DAYS AGO</td>\n",
       "    </tr>\n",
       "    <tr>\n",
       "      <th>9</th>\n",
       "      <td>Data Analyst - SQL</td>\n",
       "      <td>Teamware Solutions</td>\n",
       "      <td>3-5 Yrs</td>\n",
       "      <td>Bangalore/Bengaluru</td>\n",
       "      <td>JUST NOW</td>\n",
       "    </tr>\n",
       "  </tbody>\n",
       "</table>\n",
       "</div>"
      ],
      "text/plain": [
       "                                           Job Title  \\\n",
       "0                             Senior Data Analyst II   \n",
       "1                     Data Analyst, Business Analyst   \n",
       "2                                       Data Analyst   \n",
       "3                                       Data Analyst   \n",
       "4  Data Analyst / Product Analyst / Business Analyst   \n",
       "5        Senior Data Analyst - Data Modeling/Quality   \n",
       "6                                Senior Data Analyst   \n",
       "7                                  Sr . Data Analyst   \n",
       "8                                       Data Analyst   \n",
       "9                                 Data Analyst - SQL   \n",
       "\n",
       "                         Company name Experience Required  \\\n",
       "0                            Flipkart             2-4 Yrs   \n",
       "1  Clinilaunch Research Institute Llp             0-5 Yrs   \n",
       "2                       Treebo Hotels             1-5 Yrs   \n",
       "3                             Cargill             2-4 Yrs   \n",
       "4                            Benchire             2-5 Yrs   \n",
       "5                      Get My Parking             4-9 Yrs   \n",
       "6     Yallas Technology Solutions Opc             2-7 Yrs   \n",
       "7                      Aidash Systems             3-8 Yrs   \n",
       "8                                 CGI             0-2 Yrs   \n",
       "9                  Teamware Solutions             3-5 Yrs   \n",
       "\n",
       "                                            Location    Timestamp  \n",
       "0                                Bangalore/Bengaluru    1 DAY AGO  \n",
       "1                 Bangalore/Bengaluru(HSR Layout +1)    1 DAY AGO  \n",
       "2                    Temp. WFH - Bangalore/Bengaluru     JUST NOW  \n",
       "3                                Bangalore/Bengaluru   6 DAYS AGO  \n",
       "4                   Bangalore/Bengaluru, Delhi / NCR   5 DAYS AGO  \n",
       "5                                Bangalore/Bengaluru   5 DAYS AGO  \n",
       "6  Kolkata, Hyderabad/Secunderabad, Pune, Ahmedab...     JUST NOW  \n",
       "7                                Bangalore/Bengaluru    1 DAY AGO  \n",
       "8                                Bangalore/Bengaluru  13 DAYS AGO  \n",
       "9                                Bangalore/Bengaluru     JUST NOW  "
      ]
     },
     "execution_count": 25,
     "metadata": {},
     "output_type": "execute_result"
    }
   ],
   "source": [
    "# making dataframe\n",
    "df=pd.DataFrame({\"Job Title\":title, \"Company name\":comp, \"Experience Required\": exp, \"Location\": loc, \"Timestamp\": tim})\n",
    "df"
   ]
  },
  {
   "cell_type": "code",
   "execution_count": 26,
   "id": "daccbc98",
   "metadata": {},
   "outputs": [],
   "source": [
    "driver.close()"
   ]
  },
  {
   "cell_type": "markdown",
   "id": "60b09b7b",
   "metadata": {},
   "source": [
    "#### Q2: Write a python program to scrape data for “Data Scientist” Job position in “Bangalore” location. You have to scrape the job-title, job-location, company_name. You have to scrape first 10 jobs data. This task will be done in following steps: 1. First get the webpage https://www.naukri.com/ 2. Enter “Data Scientist” in “Skill, Designations, Companies” field and enter “Bangalore” in “enter the location” field. 3. Then click the search button. 4. Then scrape the data for the first 10 jobs results you get. 5. Finally create a dataframe of the scraped data"
   ]
  },
  {
   "cell_type": "code",
   "execution_count": 27,
   "id": "b1169ec6",
   "metadata": {},
   "outputs": [],
   "source": [
    "driver= webdriver.Chrome(r\"C:\\Users\\amang\\Chromedriver_win32\\chromedriver.exe\")"
   ]
  },
  {
   "cell_type": "code",
   "execution_count": 28,
   "id": "e5ff4efb",
   "metadata": {},
   "outputs": [],
   "source": [
    "url=\"https://www.naukri.com/\"\n",
    "driver.get(url)\n",
    "driver.maximize_window()\n",
    "\n",
    "job= driver.find_element(\"xpath\",\"/html/body/div[1]/div[6]/div/div/div[1]/div/div/div/input\")\n",
    "job.send_keys(\"Data Scientist\")\n",
    "\n",
    "loc= driver.find_element(\"xpath\",\"/html/body/div[1]/div[6]/div/div/div[5]/div/div/div/input\")\n",
    "loc.send_keys(\"Banglore\")\n",
    "\n",
    "srch= driver.find_element(\"xpath\",\"/html/body/div[1]/div[6]/div/div/div[6]\")\n",
    "srch.click()\n",
    "time.sleep(3)"
   ]
  },
  {
   "cell_type": "code",
   "execution_count": 35,
   "id": "f67b683c",
   "metadata": {},
   "outputs": [],
   "source": [
    "title=[]\n",
    "comp=[]\n",
    "exp=[]\n",
    "loc=[]\n",
    "ts=[]\n",
    "\n",
    "t=driver.find_elements(\"xpath\",'//a[@class=\"title fw500 ellipsis\"]')                    # get job titles\n",
    "c= driver.find_elements(\"xpath\",'//a[@class=\"subTitle ellipsis fleft\"]')                # get company names\n",
    "e= driver.find_elements(\"xpath\",'//span[@class=\"ellipsis fleft fs12 lh16 expwdth\"]')    # get experience req\n",
    "l=driver.find_elements(\"xpath\",'//span[@class=\"ellipsis fleft fs12 lh16 locWdth\"]')     # get location\n",
    "samay= driver.find_elements(\"xpath\",'//span[@class=\"fleft fw500\"]')                     # get timestamp\n",
    " \n",
    "# appending data repectively\n",
    "for i in range(0,10):\n",
    "    title.append(t[i].text)\n",
    "    comp.append(c[i].text)\n",
    "    exp.append(e[i].text)\n",
    "    loc.append(l[i].text)\n",
    "    ts.append(samay[i].text)"
   ]
  },
  {
   "cell_type": "code",
   "execution_count": 36,
   "id": "6647dec4",
   "metadata": {},
   "outputs": [
    {
     "name": "stdout",
     "output_type": "stream",
     "text": [
      "10 10 10 10 10\n"
     ]
    }
   ],
   "source": [
    "print(len(title), len(comp), len(exp), len(loc), len(ts))"
   ]
  },
  {
   "cell_type": "code",
   "execution_count": 37,
   "id": "886eed43",
   "metadata": {},
   "outputs": [
    {
     "data": {
      "text/html": [
       "<div>\n",
       "<style scoped>\n",
       "    .dataframe tbody tr th:only-of-type {\n",
       "        vertical-align: middle;\n",
       "    }\n",
       "\n",
       "    .dataframe tbody tr th {\n",
       "        vertical-align: top;\n",
       "    }\n",
       "\n",
       "    .dataframe thead th {\n",
       "        text-align: right;\n",
       "    }\n",
       "</style>\n",
       "<table border=\"1\" class=\"dataframe\">\n",
       "  <thead>\n",
       "    <tr style=\"text-align: right;\">\n",
       "      <th></th>\n",
       "      <th>Job title</th>\n",
       "      <th>Company name</th>\n",
       "      <th>Experience required</th>\n",
       "      <th>Location</th>\n",
       "      <th>Timestamp</th>\n",
       "    </tr>\n",
       "  </thead>\n",
       "  <tbody>\n",
       "    <tr>\n",
       "      <th>0</th>\n",
       "      <td>Analystics &amp; Modeling Specialist</td>\n",
       "      <td>Accenture</td>\n",
       "      <td>6-8 Yrs</td>\n",
       "      <td>Kolkata, Mumbai, Hyderabad/Secunderabad, Pune,...</td>\n",
       "      <td>5 DAYS AGO</td>\n",
       "    </tr>\n",
       "    <tr>\n",
       "      <th>1</th>\n",
       "      <td>Data Scientist</td>\n",
       "      <td>Tata Nexarc</td>\n",
       "      <td>4-8 Yrs</td>\n",
       "      <td>New Delhi, Hyderabad/Secunderabad, Pune, Ahmed...</td>\n",
       "      <td>25 DAYS AGO</td>\n",
       "    </tr>\n",
       "    <tr>\n",
       "      <th>2</th>\n",
       "      <td>Data Scientist</td>\n",
       "      <td>Tech Mahindra</td>\n",
       "      <td>5-8 Yrs</td>\n",
       "      <td>Nagpur, Pune, Bangalore/Bengaluru</td>\n",
       "      <td>1 DAY AGO</td>\n",
       "    </tr>\n",
       "    <tr>\n",
       "      <th>3</th>\n",
       "      <td>Data Scientist</td>\n",
       "      <td>Mindtree Limited</td>\n",
       "      <td>5-10 Yrs</td>\n",
       "      <td>Hybrid - Noida, Kolkata, Hyderabad/Secunderaba...</td>\n",
       "      <td>27 DAYS AGO</td>\n",
       "    </tr>\n",
       "    <tr>\n",
       "      <th>4</th>\n",
       "      <td>Data Scientist - II</td>\n",
       "      <td>Bizongo</td>\n",
       "      <td>3-6 Yrs</td>\n",
       "      <td>India, Bangalore/Bengaluru, Mumbai (All Areas)</td>\n",
       "      <td>30+ DAYS AGO</td>\n",
       "    </tr>\n",
       "    <tr>\n",
       "      <th>5</th>\n",
       "      <td>Python Programming Language Data Science Pract...</td>\n",
       "      <td>Accenture</td>\n",
       "      <td>4-6 Yrs</td>\n",
       "      <td>Bangalore/Bengaluru</td>\n",
       "      <td>5 DAYS AGO</td>\n",
       "    </tr>\n",
       "    <tr>\n",
       "      <th>6</th>\n",
       "      <td>ACN - Applied Intelligence - C4DI - Sustainabi...</td>\n",
       "      <td>Accenture</td>\n",
       "      <td>4-6 Yrs</td>\n",
       "      <td>Bangalore/Bengaluru</td>\n",
       "      <td>5 DAYS AGO</td>\n",
       "    </tr>\n",
       "    <tr>\n",
       "      <th>7</th>\n",
       "      <td>Data Scientist - Supply Chain</td>\n",
       "      <td>Cargill</td>\n",
       "      <td>3-5 Yrs</td>\n",
       "      <td>Bangalore/Bengaluru</td>\n",
       "      <td>6 DAYS AGO</td>\n",
       "    </tr>\n",
       "    <tr>\n",
       "      <th>8</th>\n",
       "      <td>Data Science Lead - Forecasting</td>\n",
       "      <td>Cargill</td>\n",
       "      <td>5-7 Yrs</td>\n",
       "      <td>Bangalore/Bengaluru</td>\n",
       "      <td>6 DAYS AGO</td>\n",
       "    </tr>\n",
       "    <tr>\n",
       "      <th>9</th>\n",
       "      <td>Senior Data Scientist</td>\n",
       "      <td>Cargill</td>\n",
       "      <td>5-10 Yrs</td>\n",
       "      <td>Bangalore/Bengaluru</td>\n",
       "      <td>6 DAYS AGO</td>\n",
       "    </tr>\n",
       "  </tbody>\n",
       "</table>\n",
       "</div>"
      ],
      "text/plain": [
       "                                           Job title      Company name  \\\n",
       "0                   Analystics & Modeling Specialist         Accenture   \n",
       "1                                     Data Scientist       Tata Nexarc   \n",
       "2                                     Data Scientist     Tech Mahindra   \n",
       "3                                     Data Scientist  Mindtree Limited   \n",
       "4                                Data Scientist - II           Bizongo   \n",
       "5  Python Programming Language Data Science Pract...         Accenture   \n",
       "6  ACN - Applied Intelligence - C4DI - Sustainabi...         Accenture   \n",
       "7                      Data Scientist - Supply Chain           Cargill   \n",
       "8                    Data Science Lead - Forecasting           Cargill   \n",
       "9                              Senior Data Scientist           Cargill   \n",
       "\n",
       "  Experience required                                           Location  \\\n",
       "0             6-8 Yrs  Kolkata, Mumbai, Hyderabad/Secunderabad, Pune,...   \n",
       "1             4-8 Yrs  New Delhi, Hyderabad/Secunderabad, Pune, Ahmed...   \n",
       "2             5-8 Yrs                  Nagpur, Pune, Bangalore/Bengaluru   \n",
       "3            5-10 Yrs  Hybrid - Noida, Kolkata, Hyderabad/Secunderaba...   \n",
       "4             3-6 Yrs     India, Bangalore/Bengaluru, Mumbai (All Areas)   \n",
       "5             4-6 Yrs                                Bangalore/Bengaluru   \n",
       "6             4-6 Yrs                                Bangalore/Bengaluru   \n",
       "7             3-5 Yrs                                Bangalore/Bengaluru   \n",
       "8             5-7 Yrs                                Bangalore/Bengaluru   \n",
       "9            5-10 Yrs                                Bangalore/Bengaluru   \n",
       "\n",
       "      Timestamp  \n",
       "0    5 DAYS AGO  \n",
       "1   25 DAYS AGO  \n",
       "2     1 DAY AGO  \n",
       "3   27 DAYS AGO  \n",
       "4  30+ DAYS AGO  \n",
       "5    5 DAYS AGO  \n",
       "6    5 DAYS AGO  \n",
       "7    6 DAYS AGO  \n",
       "8    6 DAYS AGO  \n",
       "9    6 DAYS AGO  "
      ]
     },
     "execution_count": 37,
     "metadata": {},
     "output_type": "execute_result"
    }
   ],
   "source": [
    "df=pd.DataFrame({\"Job title\":title, \"Company name\":comp, \"Experience required\": exp, \"Location\":loc, \"Timestamp\": ts})\n",
    "df"
   ]
  },
  {
   "cell_type": "code",
   "execution_count": 38,
   "id": "bf28a9b9",
   "metadata": {},
   "outputs": [],
   "source": [
    "driver.close()"
   ]
  },
  {
   "cell_type": "code",
   "execution_count": 32,
   "id": "4b18bcf2",
   "metadata": {},
   "outputs": [],
   "source": []
  },
  {
   "cell_type": "markdown",
   "id": "c715634d",
   "metadata": {},
   "source": [
    "#### Q3: In this question you have to scrape data using the filters available on the webpage as shown below: You have to use the location and salary filter. You have to scrape data for “Data Scientist” designation for first 10 job results. You have to scrape the job-title, job-location, company name, experience required.  The location filter to be used is “Delhi/NCR”. The salary filter to be used is “3-6” lakhs The task will be done as shown in the below steps: 1. first get the webpage https://www.naukri.com/. 2. Enter “Data Scientist” in “Skill, Designations, and Companies” field. 3. Then click the search button. 4. Then apply the location filter and salary filter by checking the respective boxes. 5. Then scrape the data for the first 10 jobs results you get. 6. Finally create a dataframe of the scraped data.\n",
    "\n"
   ]
  },
  {
   "cell_type": "code",
   "execution_count": 59,
   "id": "3e4caa10",
   "metadata": {},
   "outputs": [],
   "source": [
    "driver= webdriver.Chrome(r\"C:\\Users\\amang\\Chromedriver_win32\\chromedriver.exe\")"
   ]
  },
  {
   "cell_type": "code",
   "execution_count": 60,
   "id": "508bf5ef",
   "metadata": {},
   "outputs": [],
   "source": [
    "url='https://www.naukri.com/'\n",
    "driver.get(url)\n",
    "driver.maximize_window()"
   ]
  },
  {
   "cell_type": "code",
   "execution_count": 61,
   "id": "4396f367",
   "metadata": {},
   "outputs": [],
   "source": [
    "job=driver.find_element(\"xpath\",\"/html/body/div[1]/div[6]/div/div/div[1]/div/div/div/input\")        # giving input\n",
    "job.send_keys(\"Data Scientist\")\n",
    "\n",
    "driver.find_element(\"xpath\",\"/html/body/div[1]/div[6]/div/div/div[6]\").click()    # click search button\n",
    "time.sleep(3)"
   ]
  },
  {
   "cell_type": "code",
   "execution_count": 71,
   "id": "3c3c83ce",
   "metadata": {},
   "outputs": [
    {
     "name": "stdout",
     "output_type": "stream",
     "text": [
      "'Delhi / NCR' filter executed\n"
     ]
    }
   ],
   "source": [
    "box=driver.find_elements(\"xpath\",'//span[@class=\"ellipsis fleft\"]')    #to identify all checkboxes\n",
    "for i in box:\n",
    "    if i.text ==\"Delhi / NCR\":    #click required checkbox\n",
    "        i.click()\n",
    "        time.sleep(3)\n",
    "        print(\"'Delhi / NCR' filter executed\")\n",
    "        break    "
   ]
  },
  {
   "cell_type": "code",
   "execution_count": 72,
   "id": "8a2676b3",
   "metadata": {},
   "outputs": [
    {
     "name": "stdout",
     "output_type": "stream",
     "text": [
      "'3-6 Lakhs' filter executed\n"
     ]
    }
   ],
   "source": [
    "box=driver.find_elements(\"xpath\",'//span[@class=\"ellipsis fleft\"]')\n",
    "for i in box:\n",
    "    if i.text ==\"3-6 Lakhs\":    #click required checkbox\n",
    "        i.click()\n",
    "        time.sleep(3)\n",
    "        print(\"'3-6 Lakhs' filter executed\")\n",
    "        break "
   ]
  },
  {
   "cell_type": "code",
   "execution_count": 75,
   "id": "f2c3d415",
   "metadata": {},
   "outputs": [],
   "source": [
    "title=[]\n",
    "comp=[]\n",
    "exp=[]\n",
    "loc=[]\n",
    "\n",
    "t= driver.find_elements(\"xpath\",'//a[@class=\"title fw500 ellipsis\"]')                   #get job title\n",
    "c= driver.find_elements(\"xpath\",'//a[@class=\"subTitle ellipsis fleft\"]')                 #get company name\n",
    "e= driver.find_elements(\"xpath\",'//span[@class=\"ellipsis fleft fs12 lh16 expwdth\"]')    #get experience req\n",
    "l= driver.find_elements(\"xpath\",'//span[@class=\"ellipsis fleft fs12 lh16 locWdth\"]')    #get location\n",
    "\n",
    "#appening data respectively\n",
    "for i in range(0,10):\n",
    "    title.append(t[i].text)\n",
    "    comp.append(c[i].text)\n",
    "    exp.append(e[i].text)\n",
    "    loc.append(l[i].text)"
   ]
  },
  {
   "cell_type": "code",
   "execution_count": 76,
   "id": "b2fec20d",
   "metadata": {},
   "outputs": [
    {
     "name": "stdout",
     "output_type": "stream",
     "text": [
      "10 10 10 10\n"
     ]
    }
   ],
   "source": [
    "print(len(title), len(comp), len(exp), len(loc))"
   ]
  },
  {
   "cell_type": "code",
   "execution_count": 77,
   "id": "6dcdf763",
   "metadata": {},
   "outputs": [
    {
     "data": {
      "text/html": [
       "<div>\n",
       "<style scoped>\n",
       "    .dataframe tbody tr th:only-of-type {\n",
       "        vertical-align: middle;\n",
       "    }\n",
       "\n",
       "    .dataframe tbody tr th {\n",
       "        vertical-align: top;\n",
       "    }\n",
       "\n",
       "    .dataframe thead th {\n",
       "        text-align: right;\n",
       "    }\n",
       "</style>\n",
       "<table border=\"1\" class=\"dataframe\">\n",
       "  <thead>\n",
       "    <tr style=\"text-align: right;\">\n",
       "      <th></th>\n",
       "      <th>Job Title</th>\n",
       "      <th>Company name</th>\n",
       "      <th>Experience Required</th>\n",
       "      <th>Location</th>\n",
       "    </tr>\n",
       "  </thead>\n",
       "  <tbody>\n",
       "    <tr>\n",
       "      <th>0</th>\n",
       "      <td>Artificial Intelligence/Computer Vision Engine...</td>\n",
       "      <td>Vicara</td>\n",
       "      <td>1-3 Yrs</td>\n",
       "      <td>Delhi / NCR, Kolkata, Mumbai, Hyderabad/Secund...</td>\n",
       "    </tr>\n",
       "    <tr>\n",
       "      <th>1</th>\n",
       "      <td>Data Activation Specialist - Adobe Target</td>\n",
       "      <td>Okda Solutions</td>\n",
       "      <td>7-10 Yrs</td>\n",
       "      <td>Delhi / NCR, Kolkata, Mumbai, Hyderabad/Secund...</td>\n",
       "    </tr>\n",
       "    <tr>\n",
       "      <th>2</th>\n",
       "      <td>Data Scientist - Engine Algorithm</td>\n",
       "      <td>Primo Hiring</td>\n",
       "      <td>1-3 Yrs</td>\n",
       "      <td>Delhi / NCR, Kolkata, Mumbai, Hyderabad/Secund...</td>\n",
       "    </tr>\n",
       "    <tr>\n",
       "      <th>3</th>\n",
       "      <td>Opening For Jr. Data Scientist with Tatras Dat...</td>\n",
       "      <td>Tatras Data Services</td>\n",
       "      <td>2-4 Yrs</td>\n",
       "      <td>Delhi / NCR</td>\n",
       "    </tr>\n",
       "    <tr>\n",
       "      <th>4</th>\n",
       "      <td>Data Scientist</td>\n",
       "      <td>Americana Restaurants (india)</td>\n",
       "      <td>3-8 Yrs</td>\n",
       "      <td>Gurgaon/Gurugram</td>\n",
       "    </tr>\n",
       "    <tr>\n",
       "      <th>5</th>\n",
       "      <td>SE/SSE-Data Scientist</td>\n",
       "      <td>Bold Technology Systems</td>\n",
       "      <td>3-8 Yrs</td>\n",
       "      <td>Delhi / NCR</td>\n",
       "    </tr>\n",
       "    <tr>\n",
       "      <th>6</th>\n",
       "      <td>Data Scientist</td>\n",
       "      <td>torcai digital media</td>\n",
       "      <td>2-7 Yrs</td>\n",
       "      <td>Dehradun, Hyderabad/Secunderabad, Gurgaon/Guru...</td>\n",
       "    </tr>\n",
       "    <tr>\n",
       "      <th>7</th>\n",
       "      <td>URGENT: Data Scientist | Gurugram | 5 Days Wor...</td>\n",
       "      <td>Digilytics</td>\n",
       "      <td>2-5 Yrs</td>\n",
       "      <td>Gurgaon/Gurugram</td>\n",
       "    </tr>\n",
       "    <tr>\n",
       "      <th>8</th>\n",
       "      <td>Data Scientist</td>\n",
       "      <td>Alliance Recruitment Agency</td>\n",
       "      <td>3-4 Yrs</td>\n",
       "      <td>Noida</td>\n",
       "    </tr>\n",
       "    <tr>\n",
       "      <th>9</th>\n",
       "      <td>Jr. Data Scientist</td>\n",
       "      <td>Dataflow</td>\n",
       "      <td>1-3 Yrs</td>\n",
       "      <td>Noida</td>\n",
       "    </tr>\n",
       "  </tbody>\n",
       "</table>\n",
       "</div>"
      ],
      "text/plain": [
       "                                           Job Title  \\\n",
       "0  Artificial Intelligence/Computer Vision Engine...   \n",
       "1          Data Activation Specialist - Adobe Target   \n",
       "2                  Data Scientist - Engine Algorithm   \n",
       "3  Opening For Jr. Data Scientist with Tatras Dat...   \n",
       "4                                     Data Scientist   \n",
       "5                              SE/SSE-Data Scientist   \n",
       "6                                     Data Scientist   \n",
       "7  URGENT: Data Scientist | Gurugram | 5 Days Wor...   \n",
       "8                                     Data Scientist   \n",
       "9                                 Jr. Data Scientist   \n",
       "\n",
       "                    Company name Experience Required  \\\n",
       "0                         Vicara             1-3 Yrs   \n",
       "1                 Okda Solutions            7-10 Yrs   \n",
       "2                   Primo Hiring             1-3 Yrs   \n",
       "3           Tatras Data Services             2-4 Yrs   \n",
       "4  Americana Restaurants (india)             3-8 Yrs   \n",
       "5        Bold Technology Systems             3-8 Yrs   \n",
       "6           torcai digital media             2-7 Yrs   \n",
       "7                     Digilytics             2-5 Yrs   \n",
       "8    Alliance Recruitment Agency             3-4 Yrs   \n",
       "9                       Dataflow             1-3 Yrs   \n",
       "\n",
       "                                            Location  \n",
       "0  Delhi / NCR, Kolkata, Mumbai, Hyderabad/Secund...  \n",
       "1  Delhi / NCR, Kolkata, Mumbai, Hyderabad/Secund...  \n",
       "2  Delhi / NCR, Kolkata, Mumbai, Hyderabad/Secund...  \n",
       "3                                        Delhi / NCR  \n",
       "4                                   Gurgaon/Gurugram  \n",
       "5                                        Delhi / NCR  \n",
       "6  Dehradun, Hyderabad/Secunderabad, Gurgaon/Guru...  \n",
       "7                                   Gurgaon/Gurugram  \n",
       "8                                              Noida  \n",
       "9                                              Noida  "
      ]
     },
     "execution_count": 77,
     "metadata": {},
     "output_type": "execute_result"
    }
   ],
   "source": [
    "# making dataframe\n",
    "df=pd.DataFrame({\"Job Title\":title, \"Company name\":comp, \"Experience Required\": exp, \"Location\": loc})\n",
    "df"
   ]
  },
  {
   "cell_type": "code",
   "execution_count": 78,
   "id": "710b5ebd",
   "metadata": {},
   "outputs": [],
   "source": [
    "driver.close()"
   ]
  },
  {
   "cell_type": "code",
   "execution_count": null,
   "id": "0421d2d3",
   "metadata": {},
   "outputs": [],
   "source": []
  },
  {
   "cell_type": "markdown",
   "id": "46e61f85",
   "metadata": {},
   "source": [
    "#### Q4: Scrape data of first 100 sunglasses listings on flipkart.com. You have to scrape four attributes: 1. Brand 2. Product Description 3. Price To scrape the data you have to go through following steps: 1. Go to Flipkart webpage by url : https://www.flipkart.com/ 2. Enter “sunglasses” in the search field where “search for products, brands and more” is written and click the search icon 3. After that you will reach to the page having a lot of sunglasses. From this page you can scrap the required data as usual. 4. After scraping data from the first page, go to the “Next” Button at the bottom other page , then click on it. 5. Now scrape data from this page as usual. 6. Repeat this until you get data for 100 sunglasses"
   ]
  },
  {
   "cell_type": "code",
   "execution_count": 81,
   "id": "ebc035bd",
   "metadata": {},
   "outputs": [],
   "source": [
    "import pandas as pd\n",
    "import selenium\n",
    "import time\n",
    "from selenium import webdriver\n",
    "import warnings\n",
    "warnings.filterwarnings(\"ignore\")"
   ]
  },
  {
   "cell_type": "code",
   "execution_count": 87,
   "id": "38ff62fc",
   "metadata": {},
   "outputs": [],
   "source": [
    "driver= webdriver.Chrome(r'C:\\Users\\amang\\chromedriver_win32\\chromedriver.exe')\n",
    "driver.maximize_window()\n",
    "\n",
    "url=\"https://www.flipkart.com/\"\n",
    "driver.get(url)\n",
    "time.sleep(3)"
   ]
  },
  {
   "cell_type": "code",
   "execution_count": 88,
   "id": "b8d8159d",
   "metadata": {},
   "outputs": [],
   "source": [
    "# terminate popup\n",
    "driver.find_element(\"xpath\",\"/html/body/div[2]/div/div/button\").click()"
   ]
  },
  {
   "cell_type": "code",
   "execution_count": 90,
   "id": "5638087c",
   "metadata": {},
   "outputs": [],
   "source": [
    "write=driver.find_element(\"xpath\",\"/html/body/div[1]/div/div[1]/div[1]/div[2]/div[2]/form/div/div/input\")    #input in textbox\n",
    "write.send_keys(\"sunglassses\")\n",
    "\n",
    "driver.find_element(\"xpath\",\"/html/body/div[1]/div/div[1]/div[1]/div[2]/div[2]/form/div/button\").click()    #click search button"
   ]
  },
  {
   "cell_type": "code",
   "execution_count": 109,
   "id": "c5eb908f",
   "metadata": {},
   "outputs": [
    {
     "name": "stdout",
     "output_type": "stream",
     "text": [
      "40 no of data scrapped\n",
      "80 no of data scrapped\n",
      "100 no of data scrapped\n",
      "100 number of data scrapped and loop ends..... \n",
      " please proceed further\n"
     ]
    }
   ],
   "source": [
    "brand=[]\n",
    "desc=[]\n",
    "price=[]\n",
    "\n",
    "#while loop to repeat process of scrapping data and click on next till the requirement is met.\n",
    "while len(brand)<100:       \n",
    "    b= driver.find_elements(\"xpath\",'//div[@class=\"_2WkVRV\"]')    # brand \n",
    "    for i in b:\n",
    "        if len(brand)==100:\n",
    "            break\n",
    "        brand.append(i.text)\n",
    "    \n",
    "    d= driver.find_elements(\"xpath\",'//a[@class=\"IRpwTa\"]')\n",
    "    for i in d:\n",
    "        if len(desc)==100:\n",
    "            break\n",
    "        desc.append(i.text)\n",
    "    \n",
    "    p= driver.find_elements(\"xpath\",'//div[@class=\"_30jeq3\"]')\n",
    "    for i in p:\n",
    "        if len(price)==100:\n",
    "            break\n",
    "        price.append(i.text)\n",
    "        \n",
    "    print(len(brand),'no of data scrapped')\n",
    "        \n",
    "    nxt= driver.find_elements(\"xpath\",'//a[@class=\"_1LKTO3\"]')\n",
    "    for i in nxt:\n",
    "        if len(price)==100:\n",
    "            break\n",
    "        if (i.text)==\"NEXT\":\n",
    "            i.click()\n",
    "            time.sleep(2)\n",
    "            \n",
    "print(len(brand),'number of data scrapped and loop ends..... \\n please proceed further')"
   ]
  },
  {
   "cell_type": "code",
   "execution_count": 110,
   "id": "41b4a452",
   "metadata": {},
   "outputs": [
    {
     "name": "stdout",
     "output_type": "stream",
     "text": [
      "100 100 100\n"
     ]
    }
   ],
   "source": [
    "print(len(brand),len(desc),len(price))"
   ]
  },
  {
   "cell_type": "code",
   "execution_count": 111,
   "id": "a1899322",
   "metadata": {},
   "outputs": [
    {
     "data": {
      "text/html": [
       "<div>\n",
       "<style scoped>\n",
       "    .dataframe tbody tr th:only-of-type {\n",
       "        vertical-align: middle;\n",
       "    }\n",
       "\n",
       "    .dataframe tbody tr th {\n",
       "        vertical-align: top;\n",
       "    }\n",
       "\n",
       "    .dataframe thead th {\n",
       "        text-align: right;\n",
       "    }\n",
       "</style>\n",
       "<table border=\"1\" class=\"dataframe\">\n",
       "  <thead>\n",
       "    <tr style=\"text-align: right;\">\n",
       "      <th></th>\n",
       "      <th>Brand</th>\n",
       "      <th>Product description</th>\n",
       "      <th>Price</th>\n",
       "    </tr>\n",
       "  </thead>\n",
       "  <tbody>\n",
       "    <tr>\n",
       "      <th>0</th>\n",
       "      <td>LIZA ANGEL</td>\n",
       "      <td>Riding Glasses, Night Vision Spectacle Sunglas...</td>\n",
       "      <td>₹129</td>\n",
       "    </tr>\n",
       "    <tr>\n",
       "      <th>1</th>\n",
       "      <td>Fastrack</td>\n",
       "      <td>UV Protection Rectangular Sunglasses (Free Size)</td>\n",
       "      <td>₹499</td>\n",
       "    </tr>\n",
       "    <tr>\n",
       "      <th>2</th>\n",
       "      <td>Elligator</td>\n",
       "      <td>UV Protection Cat-eye, Retro Square, Oval, Rou...</td>\n",
       "      <td>₹129</td>\n",
       "    </tr>\n",
       "    <tr>\n",
       "      <th>3</th>\n",
       "      <td>GANSTA</td>\n",
       "      <td>Gradient, UV Protection Aviator Sunglasses (57)</td>\n",
       "      <td>₹307</td>\n",
       "    </tr>\n",
       "    <tr>\n",
       "      <th>4</th>\n",
       "      <td>PHENOMENAL</td>\n",
       "      <td>UV Protection Retro Square Sunglasses (53)</td>\n",
       "      <td>₹129</td>\n",
       "    </tr>\n",
       "    <tr>\n",
       "      <th>...</th>\n",
       "      <td>...</td>\n",
       "      <td>...</td>\n",
       "      <td>...</td>\n",
       "    </tr>\n",
       "    <tr>\n",
       "      <th>95</th>\n",
       "      <td>TheWhoop</td>\n",
       "      <td>UV Protection Wayfarer Sunglasses (Free Size)</td>\n",
       "      <td>₹306</td>\n",
       "    </tr>\n",
       "    <tr>\n",
       "      <th>96</th>\n",
       "      <td>PROVOGUE</td>\n",
       "      <td>Polarized, UV Protection Rectangular Sunglasse...</td>\n",
       "      <td>₹664</td>\n",
       "    </tr>\n",
       "    <tr>\n",
       "      <th>97</th>\n",
       "      <td>PROVOGUE</td>\n",
       "      <td>Polarized, UV Protection Rectangular Sunglasse...</td>\n",
       "      <td>₹664</td>\n",
       "    </tr>\n",
       "    <tr>\n",
       "      <th>98</th>\n",
       "      <td>kingsunglasses</td>\n",
       "      <td>Mirrored, UV Protection Wayfarer, Rectangular ...</td>\n",
       "      <td>₹284</td>\n",
       "    </tr>\n",
       "    <tr>\n",
       "      <th>99</th>\n",
       "      <td>PIRASO</td>\n",
       "      <td>UV Protection Wayfarer Sunglasses (55)</td>\n",
       "      <td>₹253</td>\n",
       "    </tr>\n",
       "  </tbody>\n",
       "</table>\n",
       "<p>100 rows × 3 columns</p>\n",
       "</div>"
      ],
      "text/plain": [
       "             Brand                                Product description Price\n",
       "0       LIZA ANGEL  Riding Glasses, Night Vision Spectacle Sunglas...  ₹129\n",
       "1         Fastrack   UV Protection Rectangular Sunglasses (Free Size)  ₹499\n",
       "2        Elligator  UV Protection Cat-eye, Retro Square, Oval, Rou...  ₹129\n",
       "3           GANSTA    Gradient, UV Protection Aviator Sunglasses (57)  ₹307\n",
       "4       PHENOMENAL         UV Protection Retro Square Sunglasses (53)  ₹129\n",
       "..             ...                                                ...   ...\n",
       "95        TheWhoop      UV Protection Wayfarer Sunglasses (Free Size)  ₹306\n",
       "96        PROVOGUE  Polarized, UV Protection Rectangular Sunglasse...  ₹664\n",
       "97        PROVOGUE  Polarized, UV Protection Rectangular Sunglasse...  ₹664\n",
       "98  kingsunglasses  Mirrored, UV Protection Wayfarer, Rectangular ...  ₹284\n",
       "99          PIRASO             UV Protection Wayfarer Sunglasses (55)  ₹253\n",
       "\n",
       "[100 rows x 3 columns]"
      ]
     },
     "execution_count": 111,
     "metadata": {},
     "output_type": "execute_result"
    }
   ],
   "source": [
    "df= pd.DataFrame({\"Brand\":brand, \"Product description\": desc, \"Price\":price})\n",
    "df"
   ]
  },
  {
   "cell_type": "code",
   "execution_count": 112,
   "id": "4b3613d9",
   "metadata": {},
   "outputs": [],
   "source": [
    "driver.close()"
   ]
  },
  {
   "cell_type": "code",
   "execution_count": null,
   "id": "065bbb90",
   "metadata": {},
   "outputs": [],
   "source": []
  },
  {
   "cell_type": "markdown",
   "id": "2caaada6",
   "metadata": {},
   "source": [
    "#### Q5: Scrape 100 reviews data from flipkart.com for iphone11 phone. This task will be done in following steps: 1. First get the webpage https://www.flipkart.com/ 2. Enter “iphone 11” in “Search” field .  3. Then click the search button. You will reach to the below shown webpage . As shown in the above page you have to scrape the tick marked attributes.These are: 1. Rating 2. Review summary 3. Full review 4. You have to scrape this data for first 100 reviews.\n"
   ]
  },
  {
   "cell_type": "code",
   "execution_count": 170,
   "id": "1165f301",
   "metadata": {},
   "outputs": [],
   "source": [
    "import pandas as pd\n",
    "import selenium\n",
    "from selenium import webdriver\n",
    "import time\n",
    "import warnings\n",
    "warnings.filterwarnings(\"ignore\")"
   ]
  },
  {
   "cell_type": "code",
   "execution_count": 171,
   "id": "3f8b4b1b",
   "metadata": {},
   "outputs": [],
   "source": [
    "driver= webdriver.Chrome(r'C:\\Users\\amang\\chromedriver_win32\\chromedriver.exe')\n",
    "driver.maximize_window()\n",
    "url=\"https://www.flipkart.com/\"\n",
    "driver.get(url)\n",
    "time.sleep(3)"
   ]
  },
  {
   "cell_type": "code",
   "execution_count": 172,
   "id": "db8095e6",
   "metadata": {},
   "outputs": [],
   "source": [
    "# terminate popup\n",
    "driver.find_element(\"xpath\",\"/html/body/div[2]/div/div/button\").click()"
   ]
  },
  {
   "cell_type": "code",
   "execution_count": 173,
   "id": "2f4fabdc",
   "metadata": {},
   "outputs": [],
   "source": [
    "text= driver.find_element(\"xpath\",'/html/body/div[1]/div/div[1]/div[1]/div[2]/div[2]/form/div/div/input')    # text input\n",
    "text.send_keys(\"Iphone 11\")\n",
    "\n",
    "driver.find_element(\"xpath\",'/html/body/div[1]/div/div[1]/div[1]/div[2]/div[2]/form/div/button').click()    #search button\n",
    "time.sleep(3)\n",
    "\n"
   ]
  },
  {
   "cell_type": "code",
   "execution_count": 174,
   "id": "f6189082",
   "metadata": {},
   "outputs": [
    {
     "data": {
      "text/plain": [
       "'#click the product link\\ndriver.find_element(\"xpath\",\\'/html/body/div[1]/div/div[3]/div[1]/div[2]/div[2]/div/div/div/a/div[2]/div[1]/div[1]\\').click()\\ntime.sleep(2)\\n\\ndriver.find_element(\"xpath\",\\'/html/body/div[1]/div/div[3]/div[1]/div[2]/div[9]/div[7]/div/a\\').click()    #reviews'"
      ]
     },
     "execution_count": 174,
     "metadata": {},
     "output_type": "execute_result"
    }
   ],
   "source": [
    "'''#click the product link\n",
    "driver.find_element(\"xpath\",'/html/body/div[1]/div/div[3]/div[1]/div[2]/div[2]/div/div/div/a/div[2]/div[1]/div[1]').click()\n",
    "time.sleep(2)\n",
    "\n",
    "driver.find_element(\"xpath\",'/html/body/div[1]/div/div[3]/div[1]/div[2]/div[9]/div[7]/div/a').click()    #reviews'''\n",
    "\n",
    "\n",
    "# after spending a lot of time (nearly 3 hours), i get to know that by clicking the product new tab opens while the driver still stays at the...\n",
    "# ..... previous tab. Hence I am not going to click. I will just get the href link of the product and by using driver.get,...\n",
    "#... i will directly go to the product link on the same tab"
   ]
  },
  {
   "cell_type": "code",
   "execution_count": 175,
   "id": "fd305ea2",
   "metadata": {},
   "outputs": [
    {
     "data": {
      "text/plain": [
       "'https://www.flipkart.com/apple-iphone-11-black-128-gb/p/itm8244e8d955aba?pid=MOBFWQ6BKRYBP5X8&lid=LSTMOBFWQ6BKRYBP5X8IBG6BS&marketplace=FLIPKART&q=Iphone+11&store=tyy%2F4io&spotlightTagId=BestsellerId_tyy%2F4io&srno=s_1_2&otracker=search&otracker1=search&fm=Search&iid=60c915bc-2416-425e-a803-70a7bd42a7ab.MOBFWQ6BKRYBP5X8.SEARCH&ppt=sp&ppn=sp&ssid=h1zpzwr2f40000001670391015731&qH=800ea8dbf6454a2a'"
      ]
     },
     "execution_count": 175,
     "metadata": {},
     "output_type": "execute_result"
    }
   ],
   "source": [
    "# getting the product href link\n",
    "plink=driver.find_element(\"xpath\",\"/html/body/div[1]/div/div[3]/div[1]/div[2]/div[3]/div/div/div/a\").get_attribute('href')\n",
    "plink"
   ]
  },
  {
   "cell_type": "code",
   "execution_count": 195,
   "id": "e1d364c6",
   "metadata": {},
   "outputs": [],
   "source": [
    "#open product link\n",
    "driver.get(plink)\n",
    "time.sleep(3)\n",
    "driver.find_element(\"xpath\",'/html/body/div[1]/div/div[3]/div[1]/div[2]/div[9]/div[7]/div/a').click()    # open all reviews\n",
    "time.sleep(3)"
   ]
  },
  {
   "cell_type": "code",
   "execution_count": 196,
   "id": "33e27c29",
   "metadata": {},
   "outputs": [
    {
     "name": "stdout",
     "output_type": "stream",
     "text": [
      "10 number of reviews has been scrapped.\n",
      "20 number of reviews has been scrapped.\n",
      "30 number of reviews has been scrapped.\n",
      "40 number of reviews has been scrapped.\n",
      "50 number of reviews has been scrapped.\n",
      "60 number of reviews has been scrapped.\n",
      "70 number of reviews has been scrapped.\n",
      "80 number of reviews has been scrapped.\n",
      "90 number of reviews has been scrapped.\n",
      "100 number of reviews has been scrapped and the loop ended. please proceed.....\n"
     ]
    }
   ],
   "source": [
    "rate=[]\n",
    "summ=[]\n",
    "full=[]\n",
    "\n",
    "while len(rate)<100:\n",
    "    r=driver.find_elements(\"xpath\",'//div[@class=\"col _2wzgFH K0kLPL\"]')\n",
    "    \n",
    "    for i in r:\n",
    "        if len(rate)==100:\n",
    "            break\n",
    "        rate.append(i.text.split(\"\\n\")[0])    #get ratings\n",
    "        summ.append(i.text.split(\"\\n\")[1])    #get summary reviews\n",
    "        full.append(i.text.split(\"\\n\")[2])    # get full reviews\n",
    "        \n",
    "    if len(rate)==100:\n",
    "        break\n",
    "    nxt= driver.find_elements(\"xpath\",'//a[@class=\"_1LKTO3\"]')\n",
    "    for i in nxt:\n",
    "        if i.text ==\"NEXT\":\n",
    "            i.click()    #click next button\n",
    "            time.sleep(3)\n",
    "            \n",
    "    print(len(rate), \"number of reviews has been scrapped.\")\n",
    "print(len(rate), \"number of reviews has been scrapped and the loop ended. please proceed.....\")"
   ]
  },
  {
   "cell_type": "code",
   "execution_count": 197,
   "id": "c67436d6",
   "metadata": {},
   "outputs": [
    {
     "name": "stdout",
     "output_type": "stream",
     "text": [
      "100 100 100\n"
     ]
    }
   ],
   "source": [
    "print(len(rate),len(summ),len(full))"
   ]
  },
  {
   "cell_type": "code",
   "execution_count": 198,
   "id": "1f02af2f",
   "metadata": {},
   "outputs": [
    {
     "data": {
      "text/html": [
       "<div>\n",
       "<style scoped>\n",
       "    .dataframe tbody tr th:only-of-type {\n",
       "        vertical-align: middle;\n",
       "    }\n",
       "\n",
       "    .dataframe tbody tr th {\n",
       "        vertical-align: top;\n",
       "    }\n",
       "\n",
       "    .dataframe thead th {\n",
       "        text-align: right;\n",
       "    }\n",
       "</style>\n",
       "<table border=\"1\" class=\"dataframe\">\n",
       "  <thead>\n",
       "    <tr style=\"text-align: right;\">\n",
       "      <th></th>\n",
       "      <th>Ratings</th>\n",
       "      <th>Review Summary</th>\n",
       "      <th>Full review</th>\n",
       "    </tr>\n",
       "  </thead>\n",
       "  <tbody>\n",
       "    <tr>\n",
       "      <th>0</th>\n",
       "      <td>5</td>\n",
       "      <td>Simply awesome</td>\n",
       "      <td>Really satisfied with the Product I received.....</td>\n",
       "    </tr>\n",
       "    <tr>\n",
       "      <th>1</th>\n",
       "      <td>5</td>\n",
       "      <td>Perfect product!</td>\n",
       "      <td>Amazing phone with great cameras and better ba...</td>\n",
       "    </tr>\n",
       "    <tr>\n",
       "      <th>2</th>\n",
       "      <td>5</td>\n",
       "      <td>Best in the market!</td>\n",
       "      <td>Great iPhone very snappy experience as apple k...</td>\n",
       "    </tr>\n",
       "    <tr>\n",
       "      <th>3</th>\n",
       "      <td>4</td>\n",
       "      <td>Value-for-money</td>\n",
       "      <td>I'm Really happy with the product</td>\n",
       "    </tr>\n",
       "    <tr>\n",
       "      <th>4</th>\n",
       "      <td>5</td>\n",
       "      <td>Worth every penny</td>\n",
       "      <td>Previously I was using one plus 3t it was a gr...</td>\n",
       "    </tr>\n",
       "    <tr>\n",
       "      <th>...</th>\n",
       "      <td>...</td>\n",
       "      <td>...</td>\n",
       "      <td>...</td>\n",
       "    </tr>\n",
       "    <tr>\n",
       "      <th>95</th>\n",
       "      <td>5</td>\n",
       "      <td>Terrific</td>\n",
       "      <td>Simply Awesome</td>\n",
       "    </tr>\n",
       "    <tr>\n",
       "      <th>96</th>\n",
       "      <td>5</td>\n",
       "      <td>Best in the market!</td>\n",
       "      <td>Damn this phone is a blast . Upgraded from and...</td>\n",
       "    </tr>\n",
       "    <tr>\n",
       "      <th>97</th>\n",
       "      <td>5</td>\n",
       "      <td>Perfect product!</td>\n",
       "      <td>Worth the money’ starting first from its perfo...</td>\n",
       "    </tr>\n",
       "    <tr>\n",
       "      <th>98</th>\n",
       "      <td>1</td>\n",
       "      <td>Absolute rubbish!</td>\n",
       "      <td>Worst product delivered by Flipkart</td>\n",
       "    </tr>\n",
       "    <tr>\n",
       "      <th>99</th>\n",
       "      <td>5</td>\n",
       "      <td>Mind-blowing purchase</td>\n",
       "      <td>Flipkart honoured on time delivery, I have use...</td>\n",
       "    </tr>\n",
       "  </tbody>\n",
       "</table>\n",
       "<p>100 rows × 3 columns</p>\n",
       "</div>"
      ],
      "text/plain": [
       "   Ratings         Review Summary  \\\n",
       "0        5         Simply awesome   \n",
       "1        5       Perfect product!   \n",
       "2        5    Best in the market!   \n",
       "3        4        Value-for-money   \n",
       "4        5      Worth every penny   \n",
       "..     ...                    ...   \n",
       "95       5               Terrific   \n",
       "96       5    Best in the market!   \n",
       "97       5       Perfect product!   \n",
       "98       1      Absolute rubbish!   \n",
       "99       5  Mind-blowing purchase   \n",
       "\n",
       "                                          Full review  \n",
       "0   Really satisfied with the Product I received.....  \n",
       "1   Amazing phone with great cameras and better ba...  \n",
       "2   Great iPhone very snappy experience as apple k...  \n",
       "3                   I'm Really happy with the product  \n",
       "4   Previously I was using one plus 3t it was a gr...  \n",
       "..                                                ...  \n",
       "95                                     Simply Awesome  \n",
       "96  Damn this phone is a blast . Upgraded from and...  \n",
       "97  Worth the money’ starting first from its perfo...  \n",
       "98                Worst product delivered by Flipkart  \n",
       "99  Flipkart honoured on time delivery, I have use...  \n",
       "\n",
       "[100 rows x 3 columns]"
      ]
     },
     "execution_count": 198,
     "metadata": {},
     "output_type": "execute_result"
    }
   ],
   "source": [
    "df= pd.DataFrame({\"Ratings\":rate, \"Review Summary\": summ, \"Full review\": full})\n",
    "df"
   ]
  },
  {
   "cell_type": "code",
   "execution_count": 199,
   "id": "ca4c91f7",
   "metadata": {},
   "outputs": [],
   "source": [
    "driver.close()"
   ]
  },
  {
   "cell_type": "code",
   "execution_count": null,
   "id": "e7fb63d9",
   "metadata": {},
   "outputs": [],
   "source": []
  },
  {
   "cell_type": "markdown",
   "id": "4e532c0c",
   "metadata": {},
   "source": [
    "#### Q6: Scrape data for first 100 sneakers you find when you visit flipkart.com and search for “sneakers” in the search field. You have to scrape 4 attributes of each sneaker: 1. Brand 2. Product Description 3. Price "
   ]
  },
  {
   "cell_type": "code",
   "execution_count": 201,
   "id": "c72d6108",
   "metadata": {},
   "outputs": [],
   "source": [
    "import pandas as pd\n",
    "import selenium\n",
    "import time\n",
    "from selenium import webdriver\n",
    "import warnings\n",
    "warnings.filterwarnings(\"ignore\")"
   ]
  },
  {
   "cell_type": "code",
   "execution_count": 203,
   "id": "a768d0f5",
   "metadata": {},
   "outputs": [],
   "source": [
    "driver= webdriver.Chrome(r'C:\\Users\\amang\\chromedriver_win32\\chromedriver.exe')\n",
    "driver.maximize_window()\n",
    "url=\"https://www.flipkart.com/\"\n",
    "driver.get(url)\n",
    "time.sleep(3)\n",
    "\n",
    "#terminate pop up\n",
    "driver.find_element(\"xpath\",\"/html/body/div[2]/div/div/button\").click()"
   ]
  },
  {
   "cell_type": "code",
   "execution_count": 204,
   "id": "8d481b40",
   "metadata": {},
   "outputs": [],
   "source": [
    "text= driver.find_element(\"xpath\",'/html/body/div[1]/div/div[1]/div[1]/div[2]/div[2]/form/div/div/input')    # text input\n",
    "text.send_keys(\"sneakers\")\n",
    "\n",
    "driver.find_element(\"xpath\",'/html/body/div[1]/div/div[1]/div[1]/div[2]/div[2]/form/div/button').click()    #search button\n",
    "time.sleep(3)"
   ]
  },
  {
   "cell_type": "code",
   "execution_count": 222,
   "id": "33da8f35",
   "metadata": {},
   "outputs": [
    {
     "name": "stdout",
     "output_type": "stream",
     "text": [
      "40 number of product details has been scrapped\n",
      "80 number of product details has been scrapped\n",
      "100 number of product details has been scrapped\n",
      "100 number of product details has been scrapped and loop ended.... please proceed\n"
     ]
    }
   ],
   "source": [
    "brand=[]\n",
    "prod=[]\n",
    "price=[]\n",
    "\n",
    "while len(brand)<100:\n",
    "    a= driver.find_elements(\"xpath\",'//div[@class=\"_2B099V\"]')\n",
    "    for i in a:\n",
    "        if len(brand)==100:\n",
    "            break                                            #as soon as length of brand becomes 100, break for loop\n",
    "        brand.append(i.text.split(\"\\n\")[0])                  #get brand details\n",
    "        prod.append(i.text.split(\"\\n\")[1])                   #get product details\n",
    "        price.append(i.text.split(\"\\n\")[2].split(\"₹\")[1])    #get price details\n",
    "    \n",
    "    print(len(brand), \"number of product details has been scrapped\")\n",
    "    if len(brand)==100:\n",
    "        break                                                #as soon as length of brand becomes 100, break While loop\n",
    "        \n",
    "    nxt= driver.find_elements(\"xpath\",'//a[@class=\"_1LKTO3\"]')\n",
    "    for i in nxt:\n",
    "        if i.text==\"NEXT\":\n",
    "            i.click()\n",
    "            time.sleep(3)\n",
    "        \n",
    "        \n",
    "print(len(brand), \"number of product details has been scrapped and loop ended.... please proceed\")        "
   ]
  },
  {
   "cell_type": "code",
   "execution_count": 223,
   "id": "70da5e2a",
   "metadata": {},
   "outputs": [
    {
     "name": "stdout",
     "output_type": "stream",
     "text": [
      "100 100 100\n"
     ]
    }
   ],
   "source": [
    "print(len(brand),len(prod),len(price))"
   ]
  },
  {
   "cell_type": "code",
   "execution_count": 224,
   "id": "90b03229",
   "metadata": {},
   "outputs": [
    {
     "data": {
      "text/html": [
       "<div>\n",
       "<style scoped>\n",
       "    .dataframe tbody tr th:only-of-type {\n",
       "        vertical-align: middle;\n",
       "    }\n",
       "\n",
       "    .dataframe tbody tr th {\n",
       "        vertical-align: top;\n",
       "    }\n",
       "\n",
       "    .dataframe thead th {\n",
       "        text-align: right;\n",
       "    }\n",
       "</style>\n",
       "<table border=\"1\" class=\"dataframe\">\n",
       "  <thead>\n",
       "    <tr style=\"text-align: right;\">\n",
       "      <th></th>\n",
       "      <th>Brand</th>\n",
       "      <th>Product description</th>\n",
       "      <th>Price</th>\n",
       "    </tr>\n",
       "  </thead>\n",
       "  <tbody>\n",
       "    <tr>\n",
       "      <th>0</th>\n",
       "      <td>asian</td>\n",
       "      <td>Jasper-02 Black Sneakers,Loafers,Casuals,Walki...</td>\n",
       "      <td>842</td>\n",
       "    </tr>\n",
       "    <tr>\n",
       "      <th>1</th>\n",
       "      <td>PUMA</td>\n",
       "      <td>Trinity Sneakers For Men</td>\n",
       "      <td>1,679</td>\n",
       "    </tr>\n",
       "    <tr>\n",
       "      <th>2</th>\n",
       "      <td>Labbin</td>\n",
       "      <td>Sneakers For Men</td>\n",
       "      <td>399</td>\n",
       "    </tr>\n",
       "    <tr>\n",
       "      <th>3</th>\n",
       "      <td>SFR</td>\n",
       "      <td>FAST Trenddy Tainer Lace-ups Sporty Casuals Sn...</td>\n",
       "      <td>299</td>\n",
       "    </tr>\n",
       "    <tr>\n",
       "      <th>4</th>\n",
       "      <td>Shozie</td>\n",
       "      <td>Sneakers For Men</td>\n",
       "      <td>299</td>\n",
       "    </tr>\n",
       "    <tr>\n",
       "      <th>...</th>\n",
       "      <td>...</td>\n",
       "      <td>...</td>\n",
       "      <td>...</td>\n",
       "    </tr>\n",
       "    <tr>\n",
       "      <th>95</th>\n",
       "      <td>ASTEROID</td>\n",
       "      <td>Original Luxury Branded Fashionable Men's Casu...</td>\n",
       "      <td>499</td>\n",
       "    </tr>\n",
       "    <tr>\n",
       "      <th>96</th>\n",
       "      <td>asics</td>\n",
       "      <td>fuzor B Sneakers For Men</td>\n",
       "      <td>2,047</td>\n",
       "    </tr>\n",
       "    <tr>\n",
       "      <th>97</th>\n",
       "      <td>asian</td>\n",
       "      <td>Jasper-02 Grey Casuals,Walking,Training,Runnin...</td>\n",
       "      <td>842</td>\n",
       "    </tr>\n",
       "    <tr>\n",
       "      <th>98</th>\n",
       "      <td>Bacan</td>\n",
       "      <td>Sneakers For Men</td>\n",
       "      <td>549</td>\n",
       "    </tr>\n",
       "    <tr>\n",
       "      <th>99</th>\n",
       "      <td>RED TAPE</td>\n",
       "      <td>Sneakers For Men</td>\n",
       "      <td>1,099</td>\n",
       "    </tr>\n",
       "  </tbody>\n",
       "</table>\n",
       "<p>100 rows × 3 columns</p>\n",
       "</div>"
      ],
      "text/plain": [
       "       Brand                                Product description  Price\n",
       "0      asian  Jasper-02 Black Sneakers,Loafers,Casuals,Walki...    842\n",
       "1       PUMA                           Trinity Sneakers For Men  1,679\n",
       "2     Labbin                                   Sneakers For Men    399\n",
       "3        SFR  FAST Trenddy Tainer Lace-ups Sporty Casuals Sn...    299\n",
       "4     Shozie                                   Sneakers For Men    299\n",
       "..       ...                                                ...    ...\n",
       "95  ASTEROID  Original Luxury Branded Fashionable Men's Casu...    499\n",
       "96     asics                           fuzor B Sneakers For Men  2,047\n",
       "97     asian  Jasper-02 Grey Casuals,Walking,Training,Runnin...    842\n",
       "98     Bacan                                   Sneakers For Men    549\n",
       "99  RED TAPE                                   Sneakers For Men  1,099\n",
       "\n",
       "[100 rows x 3 columns]"
      ]
     },
     "execution_count": 224,
     "metadata": {},
     "output_type": "execute_result"
    }
   ],
   "source": [
    "df= pd.DataFrame({\"Brand\":brand, \"Product description\": prod, \"Price\":price})\n",
    "df"
   ]
  },
  {
   "cell_type": "code",
   "execution_count": 225,
   "id": "515b59c5",
   "metadata": {},
   "outputs": [],
   "source": [
    "driver.close()"
   ]
  },
  {
   "cell_type": "code",
   "execution_count": null,
   "id": "e5e3eb83",
   "metadata": {},
   "outputs": [],
   "source": []
  },
  {
   "cell_type": "markdown",
   "id": "d4a5ad20",
   "metadata": {},
   "source": [
    "#### Q7: Go to the link - https://www.myntra.com/shoes Set second Price filter and Color filter to “Black”. And then scrape First 100 shoes data you get. The data should include “Brand” of the shoes , Short Shoe description, price of the shoe."
   ]
  },
  {
   "cell_type": "code",
   "execution_count": 323,
   "id": "10540a94",
   "metadata": {},
   "outputs": [],
   "source": [
    "import pandas as pd\n",
    "import selenium\n",
    "import time\n",
    "from selenium import webdriver\n",
    "import warnings\n",
    "warnings.filterwarnings(\"ignore\")"
   ]
  },
  {
   "cell_type": "code",
   "execution_count": 324,
   "id": "54bc0c2f",
   "metadata": {},
   "outputs": [],
   "source": [
    "driver= webdriver.Chrome(r'C:\\Users\\amang\\chromedriver_win32\\chromedriver.exe')\n",
    "driver.maximize_window()\n",
    "url=\"https://www.myntra.com/shoes\"\n",
    "driver.get(url)\n",
    "time.sleep(3)"
   ]
  },
  {
   "cell_type": "code",
   "execution_count": 325,
   "id": "6da5c501",
   "metadata": {},
   "outputs": [],
   "source": [
    "#set 2nd price filter\n",
    "driver.find_element(\"xpath\",\"/html/body/div[2]/div/main/div[3]/div[1]/section/div/div[5]/ul/li[2]/label\").click()\n",
    "time.sleep(3)\n",
    "\n",
    "# set color filter\n",
    "c= driver.find_elements(\"xpath\",'//label[@class=\"common-customCheckbox\"]')\n",
    "for i in c:\n",
    "    if (i.text.split(\" \")[0] == 'Black'):\n",
    "        i.click()\n",
    "        time.sleep(2)\n",
    "        break"
   ]
  },
  {
   "cell_type": "code",
   "execution_count": 349,
   "id": "6d288c53",
   "metadata": {},
   "outputs": [
    {
     "name": "stdout",
     "output_type": "stream",
     "text": [
      "50 number of product data has been scrapped\n",
      "100 number of product data has been scrapped\n",
      "Required data scrapped, please proceed.\n"
     ]
    }
   ],
   "source": [
    "brand=[]\n",
    "desc=[]\n",
    "price=[]\n",
    "\n",
    "while len(brand)<100:\n",
    "    info= driver.find_elements(\"xpath\",'//div[@class=\"product-productMetaInfo\"]')    #get complete info of the products\n",
    "    for i in info:\n",
    "        if len(brand)==100:\n",
    "            break\n",
    "        brand.append(i.text.split(\"\\n\")[0])                     # append the data in required list using .split()\n",
    "        desc.append(i.text.split(\"\\n\")[1])\n",
    "        price.append(i.text.split(\"\\n\")[2].split(\"Rs. \")[1])\n",
    "        \n",
    "    print(len(brand),\"number of product data has been scrapped\")\n",
    "    if len(brand)==100:\n",
    "        break\n",
    "        \n",
    "    driver.find_element(\"xpath\",'//li[@class=\"pagination-next\"]').click()    # Next button\n",
    "    time.sleep(3)\n",
    "\n",
    "print(\"Required data scrapped, please proceed.\")"
   ]
  },
  {
   "cell_type": "code",
   "execution_count": 350,
   "id": "55f36995",
   "metadata": {},
   "outputs": [
    {
     "name": "stdout",
     "output_type": "stream",
     "text": [
      "100 100 100\n"
     ]
    }
   ],
   "source": [
    "print(len(brand),len(desc),len(price))"
   ]
  },
  {
   "cell_type": "code",
   "execution_count": 355,
   "id": "0edffd64",
   "metadata": {},
   "outputs": [
    {
     "data": {
      "text/html": [
       "<div>\n",
       "<style scoped>\n",
       "    .dataframe tbody tr th:only-of-type {\n",
       "        vertical-align: middle;\n",
       "    }\n",
       "\n",
       "    .dataframe tbody tr th {\n",
       "        vertical-align: top;\n",
       "    }\n",
       "\n",
       "    .dataframe thead th {\n",
       "        text-align: right;\n",
       "    }\n",
       "</style>\n",
       "<table border=\"1\" class=\"dataframe\">\n",
       "  <thead>\n",
       "    <tr style=\"text-align: right;\">\n",
       "      <th></th>\n",
       "      <th>Brand</th>\n",
       "      <th>Description</th>\n",
       "      <th>Price in INR</th>\n",
       "    </tr>\n",
       "  </thead>\n",
       "  <tbody>\n",
       "    <tr>\n",
       "      <th>0</th>\n",
       "      <td>ADIDAS</td>\n",
       "      <td>Men 4DFWD_Pulse Running Shoes</td>\n",
       "      <td>11199</td>\n",
       "    </tr>\n",
       "    <tr>\n",
       "      <th>1</th>\n",
       "      <td>ASICS</td>\n",
       "      <td>Women Novablast 2 Shoes</td>\n",
       "      <td>10399</td>\n",
       "    </tr>\n",
       "    <tr>\n",
       "      <th>2</th>\n",
       "      <td>ADIDAS</td>\n",
       "      <td>Men Ultraboost 5.0 DNA Running</td>\n",
       "      <td>10879</td>\n",
       "    </tr>\n",
       "    <tr>\n",
       "      <th>3</th>\n",
       "      <td>UNDER ARMOUR</td>\n",
       "      <td>Men ChargedEscape 3 BL Running</td>\n",
       "      <td>8999</td>\n",
       "    </tr>\n",
       "    <tr>\n",
       "      <th>4</th>\n",
       "      <td>UNDER ARMOUR</td>\n",
       "      <td>Men ChargedEscape 3 BL Running</td>\n",
       "      <td>8999</td>\n",
       "    </tr>\n",
       "    <tr>\n",
       "      <th>...</th>\n",
       "      <td>...</td>\n",
       "      <td>...</td>\n",
       "      <td>...</td>\n",
       "    </tr>\n",
       "    <tr>\n",
       "      <th>95</th>\n",
       "      <td>Saint G</td>\n",
       "      <td>Vegan Leather Slouchy Boots</td>\n",
       "      <td>13520</td>\n",
       "    </tr>\n",
       "    <tr>\n",
       "      <th>96</th>\n",
       "      <td>Skechers</td>\n",
       "      <td>Men UNO Sneakers</td>\n",
       "      <td>7999</td>\n",
       "    </tr>\n",
       "    <tr>\n",
       "      <th>97</th>\n",
       "      <td>Saint G</td>\n",
       "      <td>Embellished Leather Flat Boots</td>\n",
       "      <td>13200</td>\n",
       "    </tr>\n",
       "    <tr>\n",
       "      <th>98</th>\n",
       "      <td>Saint G</td>\n",
       "      <td>Leather High-Top Block Heeled Boots</td>\n",
       "      <td>13200</td>\n",
       "    </tr>\n",
       "    <tr>\n",
       "      <th>99</th>\n",
       "      <td>Saint G</td>\n",
       "      <td>Leather Calf Boots</td>\n",
       "      <td>7425</td>\n",
       "    </tr>\n",
       "  </tbody>\n",
       "</table>\n",
       "<p>100 rows × 3 columns</p>\n",
       "</div>"
      ],
      "text/plain": [
       "           Brand                          Description Price in INR\n",
       "0         ADIDAS        Men 4DFWD_Pulse Running Shoes        11199\n",
       "1          ASICS              Women Novablast 2 Shoes        10399\n",
       "2         ADIDAS       Men Ultraboost 5.0 DNA Running        10879\n",
       "3   UNDER ARMOUR       Men ChargedEscape 3 BL Running         8999\n",
       "4   UNDER ARMOUR       Men ChargedEscape 3 BL Running         8999\n",
       "..           ...                                  ...          ...\n",
       "95       Saint G          Vegan Leather Slouchy Boots        13520\n",
       "96      Skechers                     Men UNO Sneakers         7999\n",
       "97       Saint G       Embellished Leather Flat Boots        13200\n",
       "98       Saint G  Leather High-Top Block Heeled Boots        13200\n",
       "99       Saint G                   Leather Calf Boots         7425\n",
       "\n",
       "[100 rows x 3 columns]"
      ]
     },
     "execution_count": 355,
     "metadata": {},
     "output_type": "execute_result"
    }
   ],
   "source": [
    "df= pd.DataFrame({\"Brand\":brand, \"Description\": desc, \"Price in INR\":price})\n",
    "df"
   ]
  },
  {
   "cell_type": "code",
   "execution_count": 352,
   "id": "b6e25b59",
   "metadata": {},
   "outputs": [],
   "source": [
    "driver.close()"
   ]
  },
  {
   "cell_type": "code",
   "execution_count": null,
   "id": "44108453",
   "metadata": {},
   "outputs": [],
   "source": []
  },
  {
   "cell_type": "markdown",
   "id": "fd95e94f",
   "metadata": {},
   "source": [
    "#### Q8: Go to webpage https://www.amazon.in/ Enter “Laptop” in the search field and then click the search icon. Then set CPU Type filter to “Intel Core i7” After setting the filters scrape first 10 laptops data. You have to scrape 3 attributes for each laptop: 1. Title 2. Ratings 3. Price"
   ]
  },
  {
   "cell_type": "code",
   "execution_count": 262,
   "id": "1b83776b",
   "metadata": {},
   "outputs": [],
   "source": [
    "import pandas as pd\n",
    "import selenium\n",
    "import time\n",
    "from selenium import webdriver\n",
    "import warnings\n",
    "warnings.filterwarnings(\"ignore\")"
   ]
  },
  {
   "cell_type": "code",
   "execution_count": 316,
   "id": "dcc2b945",
   "metadata": {},
   "outputs": [],
   "source": [
    "driver= webdriver.Chrome(r'C:\\Users\\amang\\chromedriver_win32\\chromedriver.exe')\n",
    "driver.maximize_window()\n",
    "url=\"https://www.amazon.in/\"\n",
    "driver.get(url)\n",
    "time.sleep(3)"
   ]
  },
  {
   "cell_type": "code",
   "execution_count": 317,
   "id": "33025787",
   "metadata": {},
   "outputs": [],
   "source": [
    "#send input to text box\n",
    "driver.find_element(\"xpath\",'/html/body/div[1]/header/div/div[1]/div[2]/div/form/div[2]/div[1]/input').send_keys(\"Laptop\")\n",
    "\n",
    "#click search icon\n",
    "driver.find_element(\"xpath\",'/html/body/div[1]/header/div/div[1]/div[2]/div/form/div[3]/div/span/input').click()\n",
    "time.sleep(3)"
   ]
  },
  {
   "cell_type": "code",
   "execution_count": 318,
   "id": "cb37599a",
   "metadata": {},
   "outputs": [],
   "source": [
    "#set filter\n",
    "fil= driver.find_elements(\"xpath\",'//span[@class=\"a-size-base a-color-base\"]')\n",
    "for i in fil:\n",
    "    if i.text==\"Intel Core i7\":\n",
    "        i.click()\n",
    "        break"
   ]
  },
  {
   "cell_type": "code",
   "execution_count": 319,
   "id": "34e4bf69",
   "metadata": {},
   "outputs": [],
   "source": [
    "title=[]\n",
    "rate=[]\n",
    "price=[]\n",
    "c=10\n",
    "b=0\n",
    "t= driver.find_elements(\"xpath\",'//h2[@class=\"a-size-mini a-spacing-none a-color-base s-line-clamp-2\"]')\n",
    "r= driver.find_elements(\"xpath\",'//span[@class=\"a-size-base\"]')\n",
    "p= driver.find_elements(\"xpath\",'//span[@class=\"a-price-whole\"]')\n",
    "\n",
    "#title\n",
    "for i in t:                       # this loop is to keep record of empty data\n",
    "    if i.text == \"\":          \n",
    "        c+=1\n",
    "\n",
    "for i in range(0,c):             # increase the range by number of empty data present\n",
    "    if t[i].text == \"\":\n",
    "        continue                 # continue if empty data.\n",
    "    title.append(t[i].text)      # get title  \n",
    "        \n",
    "#ratings\n",
    "c=10\n",
    "for i in r:\n",
    "    if i.text == \"\":\n",
    "        c+=1\n",
    "\n",
    "for i in range(0,c):\n",
    "    if r[i].text == \"\":\n",
    "        continue\n",
    "    rate.append(r[i].text)       #get ratings\n",
    "        \n",
    "#price\n",
    "c=10\n",
    "for i in p:\n",
    "    if i.text == \"\":\n",
    "        c+=1\n",
    "\n",
    "for i in range(0,c):\n",
    "    if p[i].text == \"\":\n",
    "        continue\n",
    "    price.append(p[i].text)     #get price\n"
   ]
  },
  {
   "cell_type": "code",
   "execution_count": 320,
   "id": "272042e5",
   "metadata": {},
   "outputs": [
    {
     "name": "stdout",
     "output_type": "stream",
     "text": [
      "10 10 10\n"
     ]
    }
   ],
   "source": [
    "print(len(title),len(rate),len(price))"
   ]
  },
  {
   "cell_type": "code",
   "execution_count": 321,
   "id": "c733cd3f",
   "metadata": {},
   "outputs": [
    {
     "data": {
      "text/html": [
       "<div>\n",
       "<style scoped>\n",
       "    .dataframe tbody tr th:only-of-type {\n",
       "        vertical-align: middle;\n",
       "    }\n",
       "\n",
       "    .dataframe tbody tr th {\n",
       "        vertical-align: top;\n",
       "    }\n",
       "\n",
       "    .dataframe thead th {\n",
       "        text-align: right;\n",
       "    }\n",
       "</style>\n",
       "<table border=\"1\" class=\"dataframe\">\n",
       "  <thead>\n",
       "    <tr style=\"text-align: right;\">\n",
       "      <th></th>\n",
       "      <th>Title</th>\n",
       "      <th>Ratings</th>\n",
       "      <th>Price</th>\n",
       "    </tr>\n",
       "  </thead>\n",
       "  <tbody>\n",
       "    <tr>\n",
       "      <th>0</th>\n",
       "      <td>HP Pavilion x360 11th Gen Intel Core i7 14 inc...</td>\n",
       "      <td>4.4</td>\n",
       "      <td>82,490</td>\n",
       "    </tr>\n",
       "    <tr>\n",
       "      <th>1</th>\n",
       "      <td>Samsung Galaxy Book2 360 Intel 12th Gen i7 Evo...</td>\n",
       "      <td>4.2</td>\n",
       "      <td>94,391</td>\n",
       "    </tr>\n",
       "    <tr>\n",
       "      <th>2</th>\n",
       "      <td>Lenovo ThinkBook 15 Intel 11th Gen Core i7 15....</td>\n",
       "      <td>3.7</td>\n",
       "      <td>84,500</td>\n",
       "    </tr>\n",
       "    <tr>\n",
       "      <th>3</th>\n",
       "      <td>Lenovo IdeaPad Slim 5 12th Gen Intel Core i7 1...</td>\n",
       "      <td>4.2</td>\n",
       "      <td>82,990</td>\n",
       "    </tr>\n",
       "    <tr>\n",
       "      <th>4</th>\n",
       "      <td>HP Pavilion Plus, 12th Gen Intel Core i7 16GB ...</td>\n",
       "      <td>4.0</td>\n",
       "      <td>93,990</td>\n",
       "    </tr>\n",
       "    <tr>\n",
       "      <th>5</th>\n",
       "      <td>Acer Nitro 5 Gaming Laptop Intel core i7 11th ...</td>\n",
       "      <td>3.9</td>\n",
       "      <td>79,990</td>\n",
       "    </tr>\n",
       "    <tr>\n",
       "      <th>6</th>\n",
       "      <td>HP Victus Gaming Latest 12th Gen Intel Core i7...</td>\n",
       "      <td>4.3</td>\n",
       "      <td>82,990</td>\n",
       "    </tr>\n",
       "    <tr>\n",
       "      <th>7</th>\n",
       "      <td>ASUS TUF Gaming F17 (2022), 17.3\"(43.94 cms) F...</td>\n",
       "      <td>4.0</td>\n",
       "      <td>1,09,990</td>\n",
       "    </tr>\n",
       "    <tr>\n",
       "      <th>8</th>\n",
       "      <td>HP Pavilion x360 11th Gen Intel Core i7 14 inc...</td>\n",
       "      <td>4.4</td>\n",
       "      <td>82,490</td>\n",
       "    </tr>\n",
       "    <tr>\n",
       "      <th>9</th>\n",
       "      <td>(Renewed) HP ProBook 430 G3 6th Gen Intel Core...</td>\n",
       "      <td>3.2</td>\n",
       "      <td>24,960</td>\n",
       "    </tr>\n",
       "  </tbody>\n",
       "</table>\n",
       "</div>"
      ],
      "text/plain": [
       "                                               Title Ratings     Price\n",
       "0  HP Pavilion x360 11th Gen Intel Core i7 14 inc...     4.4    82,490\n",
       "1  Samsung Galaxy Book2 360 Intel 12th Gen i7 Evo...     4.2    94,391\n",
       "2  Lenovo ThinkBook 15 Intel 11th Gen Core i7 15....     3.7    84,500\n",
       "3  Lenovo IdeaPad Slim 5 12th Gen Intel Core i7 1...     4.2    82,990\n",
       "4  HP Pavilion Plus, 12th Gen Intel Core i7 16GB ...     4.0    93,990\n",
       "5  Acer Nitro 5 Gaming Laptop Intel core i7 11th ...     3.9    79,990\n",
       "6  HP Victus Gaming Latest 12th Gen Intel Core i7...     4.3    82,990\n",
       "7  ASUS TUF Gaming F17 (2022), 17.3\"(43.94 cms) F...     4.0  1,09,990\n",
       "8  HP Pavilion x360 11th Gen Intel Core i7 14 inc...     4.4    82,490\n",
       "9  (Renewed) HP ProBook 430 G3 6th Gen Intel Core...     3.2    24,960"
      ]
     },
     "execution_count": 321,
     "metadata": {},
     "output_type": "execute_result"
    }
   ],
   "source": [
    "df=pd.DataFrame({\"Title\": title, \"Ratings\":rate, \"Price\":price})\n",
    "df"
   ]
  },
  {
   "cell_type": "code",
   "execution_count": 322,
   "id": "f904795a",
   "metadata": {},
   "outputs": [],
   "source": [
    "driver.close()"
   ]
  },
  {
   "cell_type": "code",
   "execution_count": null,
   "id": "1c0e9cfb",
   "metadata": {},
   "outputs": [],
   "source": []
  },
  {
   "cell_type": "code",
   "execution_count": null,
   "id": "4e49b3c8",
   "metadata": {},
   "outputs": [],
   "source": []
  },
  {
   "cell_type": "markdown",
   "id": "d3cf0106",
   "metadata": {},
   "source": [
    "### NOTE- As website of ambitionbox was not working properly. I was informed to skip Q9 & 10. Ticket no- \"Ticket #12761\""
   ]
  },
  {
   "cell_type": "markdown",
   "id": "83f9cc06",
   "metadata": {},
   "source": [
    "#### Q9: Write a python program to scrape data for first 10 job results for Data Scientist Designation in Noida location. You have to scrape company name, No. of days ago when job was posted, Rating of the company.  This task will be done in following steps: 1. First get the webpage https://www.ambitionbox.com/ 2. Click on the Job option. 3. After reaching to the next webpage, In place of “Search by Designations, Companies, Skills” enter “Data Scientist” and click on search button. 4. You will reach to the following web page click on location and in place of “Search location” enter “Noida” and select location “Noida”. 5. Then scrape the data for the first 10 jobs results you get on the above shown page. 6. Finally create a dataframe of the scraped data.\n"
   ]
  },
  {
   "cell_type": "code",
   "execution_count": 1,
   "id": "50720a87",
   "metadata": {},
   "outputs": [],
   "source": [
    "import pandas as pd\n",
    "import selenium\n",
    "import time\n",
    "from selenium import webdriver\n",
    "import warnings\n",
    "warnings.filterwarnings(\"ignore\")"
   ]
  },
  {
   "cell_type": "code",
   "execution_count": 2,
   "id": "a26029f1",
   "metadata": {},
   "outputs": [],
   "source": [
    "driver= webdriver.Chrome(r'C:\\Users\\amang\\chromedriver_win32\\chromedriver.exe')\n",
    "driver.maximize_window()\n",
    "\n",
    "url=\"https://www.ambitionbox.com/\"\n",
    "driver.get(url)\n",
    "time.sleep(3)"
   ]
  },
  {
   "cell_type": "code",
   "execution_count": 9,
   "id": "4093e884",
   "metadata": {},
   "outputs": [],
   "source": [
    "#click jobs option\n",
    "driver.find_element(\"xpath\",\"/html/body/div[2]/div/div/div[1]/header/nav/ul/li[5]/a\").click()\n",
    "time.sleep(5)\n",
    "\n",
    "#enter input in textbox\n",
    "driver.find_element(\"xpath\",\"/html/body/div[2]/div/div/div[2]/div[1]/div[1]/div/div/div/div/span/input\").send_keys(\"Data Scientist\")\n",
    "\n",
    "#click search button\n",
    "driver.find_element(\"xpath\",\"/html/body/div[2]/div/div/div[2]/div[1]/div[1]/div/div/div/button\").click()\n",
    "time.sleep(10)\n",
    "\n"
   ]
  },
  {
   "cell_type": "code",
   "execution_count": 10,
   "id": "67fd9688",
   "metadata": {},
   "outputs": [
    {
     "ename": "ElementNotInteractableException",
     "evalue": "Message: element not interactable\n  (Session info: chrome=108.0.5359.96)\nStacktrace:\nBacktrace:\n\t(No symbol) [0x0037F243]\n\t(No symbol) [0x00307FD1]\n\t(No symbol) [0x001FCF10]\n\t(No symbol) [0x0022D003]\n\t(No symbol) [0x002232A6]\n\t(No symbol) [0x0024858C]\n\t(No symbol) [0x00222BFF]\n\t(No symbol) [0x00248804]\n\t(No symbol) [0x0025C9EB]\n\t(No symbol) [0x00248386]\n\t(No symbol) [0x0022163C]\n\t(No symbol) [0x0022269D]\n\tGetHandleVerifier [0x00619A22+2655074]\n\tGetHandleVerifier [0x0060CA24+2601828]\n\tGetHandleVerifier [0x00428C0A+619850]\n\tGetHandleVerifier [0x00427830+614768]\n\t(No symbol) [0x003105FC]\n\t(No symbol) [0x00315968]\n\t(No symbol) [0x00315A55]\n\t(No symbol) [0x0032051B]\n\tBaseThreadInitThunk [0x75AC7BA9+25]\n\tRtlInitializeExceptionChain [0x77C4BB9B+107]\n\tRtlClearBits [0x77C4BB1F+191]\n",
     "output_type": "error",
     "traceback": [
      "\u001b[1;31m---------------------------------------------------------------------------\u001b[0m",
      "\u001b[1;31mElementNotInteractableException\u001b[0m           Traceback (most recent call last)",
      "\u001b[1;32m~\\AppData\\Local\\Temp/ipykernel_2432/2347303774.py\u001b[0m in \u001b[0;36m<module>\u001b[1;34m\u001b[0m\n\u001b[1;32m----> 1\u001b[1;33m \u001b[0mdriver\u001b[0m\u001b[1;33m.\u001b[0m\u001b[0mfind_element\u001b[0m\u001b[1;33m(\u001b[0m\u001b[1;34m\"xpath\"\u001b[0m\u001b[1;33m,\u001b[0m\u001b[1;34m'/html/body/div[2]/div/div/div[2]/div[1]/div[2]/div[1]/div/div/div/div[2]/div[1]'\u001b[0m\u001b[1;33m)\u001b[0m\u001b[1;33m.\u001b[0m\u001b[0mclick\u001b[0m\u001b[1;33m(\u001b[0m\u001b[1;33m)\u001b[0m\u001b[1;33m\u001b[0m\u001b[1;33m\u001b[0m\u001b[0m\n\u001b[0m",
      "\u001b[1;32m~\\anaconda3\\lib\\site-packages\\selenium\\webdriver\\remote\\webelement.py\u001b[0m in \u001b[0;36mclick\u001b[1;34m(self)\u001b[0m\n\u001b[0;32m     86\u001b[0m     \u001b[1;32mdef\u001b[0m \u001b[0mclick\u001b[0m\u001b[1;33m(\u001b[0m\u001b[0mself\u001b[0m\u001b[1;33m)\u001b[0m \u001b[1;33m->\u001b[0m \u001b[1;32mNone\u001b[0m\u001b[1;33m:\u001b[0m\u001b[1;33m\u001b[0m\u001b[1;33m\u001b[0m\u001b[0m\n\u001b[0;32m     87\u001b[0m         \u001b[1;34m\"\"\"Clicks the element.\"\"\"\u001b[0m\u001b[1;33m\u001b[0m\u001b[1;33m\u001b[0m\u001b[0m\n\u001b[1;32m---> 88\u001b[1;33m         \u001b[0mself\u001b[0m\u001b[1;33m.\u001b[0m\u001b[0m_execute\u001b[0m\u001b[1;33m(\u001b[0m\u001b[0mCommand\u001b[0m\u001b[1;33m.\u001b[0m\u001b[0mCLICK_ELEMENT\u001b[0m\u001b[1;33m)\u001b[0m\u001b[1;33m\u001b[0m\u001b[1;33m\u001b[0m\u001b[0m\n\u001b[0m\u001b[0;32m     89\u001b[0m \u001b[1;33m\u001b[0m\u001b[0m\n\u001b[0;32m     90\u001b[0m     \u001b[1;32mdef\u001b[0m \u001b[0msubmit\u001b[0m\u001b[1;33m(\u001b[0m\u001b[0mself\u001b[0m\u001b[1;33m)\u001b[0m\u001b[1;33m:\u001b[0m\u001b[1;33m\u001b[0m\u001b[1;33m\u001b[0m\u001b[0m\n",
      "\u001b[1;32m~\\anaconda3\\lib\\site-packages\\selenium\\webdriver\\remote\\webelement.py\u001b[0m in \u001b[0;36m_execute\u001b[1;34m(self, command, params)\u001b[0m\n\u001b[0;32m    394\u001b[0m             \u001b[0mparams\u001b[0m \u001b[1;33m=\u001b[0m \u001b[1;33m{\u001b[0m\u001b[1;33m}\u001b[0m\u001b[1;33m\u001b[0m\u001b[1;33m\u001b[0m\u001b[0m\n\u001b[0;32m    395\u001b[0m         \u001b[0mparams\u001b[0m\u001b[1;33m[\u001b[0m\u001b[1;34m'id'\u001b[0m\u001b[1;33m]\u001b[0m \u001b[1;33m=\u001b[0m \u001b[0mself\u001b[0m\u001b[1;33m.\u001b[0m\u001b[0m_id\u001b[0m\u001b[1;33m\u001b[0m\u001b[1;33m\u001b[0m\u001b[0m\n\u001b[1;32m--> 396\u001b[1;33m         \u001b[1;32mreturn\u001b[0m \u001b[0mself\u001b[0m\u001b[1;33m.\u001b[0m\u001b[0m_parent\u001b[0m\u001b[1;33m.\u001b[0m\u001b[0mexecute\u001b[0m\u001b[1;33m(\u001b[0m\u001b[0mcommand\u001b[0m\u001b[1;33m,\u001b[0m \u001b[0mparams\u001b[0m\u001b[1;33m)\u001b[0m\u001b[1;33m\u001b[0m\u001b[1;33m\u001b[0m\u001b[0m\n\u001b[0m\u001b[0;32m    397\u001b[0m \u001b[1;33m\u001b[0m\u001b[0m\n\u001b[0;32m    398\u001b[0m     \u001b[1;32mdef\u001b[0m \u001b[0mfind_element\u001b[0m\u001b[1;33m(\u001b[0m\u001b[0mself\u001b[0m\u001b[1;33m,\u001b[0m \u001b[0mby\u001b[0m\u001b[1;33m=\u001b[0m\u001b[0mBy\u001b[0m\u001b[1;33m.\u001b[0m\u001b[0mID\u001b[0m\u001b[1;33m,\u001b[0m \u001b[0mvalue\u001b[0m\u001b[1;33m=\u001b[0m\u001b[1;32mNone\u001b[0m\u001b[1;33m)\u001b[0m \u001b[1;33m->\u001b[0m \u001b[0mWebElement\u001b[0m\u001b[1;33m:\u001b[0m\u001b[1;33m\u001b[0m\u001b[1;33m\u001b[0m\u001b[0m\n",
      "\u001b[1;32m~\\anaconda3\\lib\\site-packages\\selenium\\webdriver\\remote\\webdriver.py\u001b[0m in \u001b[0;36mexecute\u001b[1;34m(self, driver_command, params)\u001b[0m\n\u001b[0;32m    433\u001b[0m         \u001b[0mresponse\u001b[0m \u001b[1;33m=\u001b[0m \u001b[0mself\u001b[0m\u001b[1;33m.\u001b[0m\u001b[0mcommand_executor\u001b[0m\u001b[1;33m.\u001b[0m\u001b[0mexecute\u001b[0m\u001b[1;33m(\u001b[0m\u001b[0mdriver_command\u001b[0m\u001b[1;33m,\u001b[0m \u001b[0mparams\u001b[0m\u001b[1;33m)\u001b[0m\u001b[1;33m\u001b[0m\u001b[1;33m\u001b[0m\u001b[0m\n\u001b[0;32m    434\u001b[0m         \u001b[1;32mif\u001b[0m \u001b[0mresponse\u001b[0m\u001b[1;33m:\u001b[0m\u001b[1;33m\u001b[0m\u001b[1;33m\u001b[0m\u001b[0m\n\u001b[1;32m--> 435\u001b[1;33m             \u001b[0mself\u001b[0m\u001b[1;33m.\u001b[0m\u001b[0merror_handler\u001b[0m\u001b[1;33m.\u001b[0m\u001b[0mcheck_response\u001b[0m\u001b[1;33m(\u001b[0m\u001b[0mresponse\u001b[0m\u001b[1;33m)\u001b[0m\u001b[1;33m\u001b[0m\u001b[1;33m\u001b[0m\u001b[0m\n\u001b[0m\u001b[0;32m    436\u001b[0m             response['value'] = self._unwrap_value(\n\u001b[0;32m    437\u001b[0m                 response.get('value', None))\n",
      "\u001b[1;32m~\\anaconda3\\lib\\site-packages\\selenium\\webdriver\\remote\\errorhandler.py\u001b[0m in \u001b[0;36mcheck_response\u001b[1;34m(self, response)\u001b[0m\n\u001b[0;32m    245\u001b[0m                 \u001b[0malert_text\u001b[0m \u001b[1;33m=\u001b[0m \u001b[0mvalue\u001b[0m\u001b[1;33m[\u001b[0m\u001b[1;34m'alert'\u001b[0m\u001b[1;33m]\u001b[0m\u001b[1;33m.\u001b[0m\u001b[0mget\u001b[0m\u001b[1;33m(\u001b[0m\u001b[1;34m'text'\u001b[0m\u001b[1;33m)\u001b[0m\u001b[1;33m\u001b[0m\u001b[1;33m\u001b[0m\u001b[0m\n\u001b[0;32m    246\u001b[0m             \u001b[1;32mraise\u001b[0m \u001b[0mexception_class\u001b[0m\u001b[1;33m(\u001b[0m\u001b[0mmessage\u001b[0m\u001b[1;33m,\u001b[0m \u001b[0mscreen\u001b[0m\u001b[1;33m,\u001b[0m \u001b[0mstacktrace\u001b[0m\u001b[1;33m,\u001b[0m \u001b[0malert_text\u001b[0m\u001b[1;33m)\u001b[0m  \u001b[1;31m# type: ignore[call-arg]  # mypy is not smart enough here\u001b[0m\u001b[1;33m\u001b[0m\u001b[1;33m\u001b[0m\u001b[0m\n\u001b[1;32m--> 247\u001b[1;33m         \u001b[1;32mraise\u001b[0m \u001b[0mexception_class\u001b[0m\u001b[1;33m(\u001b[0m\u001b[0mmessage\u001b[0m\u001b[1;33m,\u001b[0m \u001b[0mscreen\u001b[0m\u001b[1;33m,\u001b[0m \u001b[0mstacktrace\u001b[0m\u001b[1;33m)\u001b[0m\u001b[1;33m\u001b[0m\u001b[1;33m\u001b[0m\u001b[0m\n\u001b[0m\u001b[0;32m    248\u001b[0m \u001b[1;33m\u001b[0m\u001b[0m\n\u001b[0;32m    249\u001b[0m     \u001b[1;32mdef\u001b[0m \u001b[0m_value_or_default\u001b[0m\u001b[1;33m(\u001b[0m\u001b[0mself\u001b[0m\u001b[1;33m,\u001b[0m \u001b[0mobj\u001b[0m\u001b[1;33m:\u001b[0m \u001b[0mMapping\u001b[0m\u001b[1;33m[\u001b[0m\u001b[0m_KT\u001b[0m\u001b[1;33m,\u001b[0m \u001b[0m_VT\u001b[0m\u001b[1;33m]\u001b[0m\u001b[1;33m,\u001b[0m \u001b[0mkey\u001b[0m\u001b[1;33m:\u001b[0m \u001b[0m_KT\u001b[0m\u001b[1;33m,\u001b[0m \u001b[0mdefault\u001b[0m\u001b[1;33m:\u001b[0m \u001b[0m_VT\u001b[0m\u001b[1;33m)\u001b[0m \u001b[1;33m->\u001b[0m \u001b[0m_VT\u001b[0m\u001b[1;33m:\u001b[0m\u001b[1;33m\u001b[0m\u001b[1;33m\u001b[0m\u001b[0m\n",
      "\u001b[1;31mElementNotInteractableException\u001b[0m: Message: element not interactable\n  (Session info: chrome=108.0.5359.96)\nStacktrace:\nBacktrace:\n\t(No symbol) [0x0037F243]\n\t(No symbol) [0x00307FD1]\n\t(No symbol) [0x001FCF10]\n\t(No symbol) [0x0022D003]\n\t(No symbol) [0x002232A6]\n\t(No symbol) [0x0024858C]\n\t(No symbol) [0x00222BFF]\n\t(No symbol) [0x00248804]\n\t(No symbol) [0x0025C9EB]\n\t(No symbol) [0x00248386]\n\t(No symbol) [0x0022163C]\n\t(No symbol) [0x0022269D]\n\tGetHandleVerifier [0x00619A22+2655074]\n\tGetHandleVerifier [0x0060CA24+2601828]\n\tGetHandleVerifier [0x00428C0A+619850]\n\tGetHandleVerifier [0x00427830+614768]\n\t(No symbol) [0x003105FC]\n\t(No symbol) [0x00315968]\n\t(No symbol) [0x00315A55]\n\t(No symbol) [0x0032051B]\n\tBaseThreadInitThunk [0x75AC7BA9+25]\n\tRtlInitializeExceptionChain [0x77C4BB9B+107]\n\tRtlClearBits [0x77C4BB1F+191]\n"
     ]
    }
   ],
   "source": [
    "# click on location\n",
    "driver.find_element(\"xpath\",'/html/body/div[2]/div/div/div[2]/div[1]/div[2]/div[1]/div/div/div/div[2]/div[1]').click()"
   ]
  },
  {
   "cell_type": "code",
   "execution_count": 380,
   "id": "508da4be",
   "metadata": {},
   "outputs": [
    {
     "ename": "ElementNotInteractableException",
     "evalue": "Message: element not interactable\n  (Session info: chrome=108.0.5359.95)\nStacktrace:\nBacktrace:\n\t(No symbol) [0x00A1F243]\n\t(No symbol) [0x009A7FD1]\n\t(No symbol) [0x0089CF10]\n\t(No symbol) [0x008C795E]\n\t(No symbol) [0x008C70E5]\n\t(No symbol) [0x008E858C]\n\t(No symbol) [0x008C2BFF]\n\t(No symbol) [0x008E8804]\n\t(No symbol) [0x008FC9EB]\n\t(No symbol) [0x008E8386]\n\t(No symbol) [0x008C163C]\n\t(No symbol) [0x008C269D]\n\tGetHandleVerifier [0x00CB9A22+2655074]\n\tGetHandleVerifier [0x00CACA24+2601828]\n\tGetHandleVerifier [0x00AC8C0A+619850]\n\tGetHandleVerifier [0x00AC7830+614768]\n\t(No symbol) [0x009B05FC]\n\t(No symbol) [0x009B5968]\n\t(No symbol) [0x009B5A55]\n\t(No symbol) [0x009C051B]\n\tBaseThreadInitThunk [0x75A37BA9+25]\n\tRtlInitializeExceptionChain [0x77A4BB9B+107]\n\tRtlClearBits [0x77A4BB1F+191]\n",
     "output_type": "error",
     "traceback": [
      "\u001b[1;31m---------------------------------------------------------------------------\u001b[0m",
      "\u001b[1;31mElementNotInteractableException\u001b[0m           Traceback (most recent call last)",
      "\u001b[1;32m~\\AppData\\Local\\Temp/ipykernel_9632/2400577815.py\u001b[0m in \u001b[0;36m<module>\u001b[1;34m\u001b[0m\n\u001b[0;32m      8\u001b[0m \u001b[1;31m# enter noida in location textbox\u001b[0m\u001b[1;33m\u001b[0m\u001b[1;33m\u001b[0m\u001b[0m\n\u001b[0;32m      9\u001b[0m \u001b[0ml\u001b[0m\u001b[1;33m=\u001b[0m\u001b[0mdriver\u001b[0m\u001b[1;33m.\u001b[0m\u001b[0mfind_element\u001b[0m\u001b[1;33m(\u001b[0m\u001b[1;34m\"xpath\"\u001b[0m\u001b[1;33m,\u001b[0m\u001b[1;34m\"/html/body/div[2]/div/div/div[2]/div[1]/div[2]/div[1]/div/div/div/div[2]/div[2]/div/div[2]/input\"\u001b[0m\u001b[1;33m)\u001b[0m\u001b[1;33m\u001b[0m\u001b[1;33m\u001b[0m\u001b[0m\n\u001b[1;32m---> 10\u001b[1;33m \u001b[0ml\u001b[0m\u001b[1;33m.\u001b[0m\u001b[0msend_keys\u001b[0m\u001b[1;33m(\u001b[0m\u001b[1;34m\"Noida\"\u001b[0m\u001b[1;33m)\u001b[0m\u001b[1;33m\u001b[0m\u001b[1;33m\u001b[0m\u001b[0m\n\u001b[0m\u001b[0;32m     11\u001b[0m \u001b[1;33m\u001b[0m\u001b[0m\n\u001b[0;32m     12\u001b[0m \u001b[1;31m# select noida as input\u001b[0m\u001b[1;33m\u001b[0m\u001b[1;33m\u001b[0m\u001b[0m\n",
      "\u001b[1;32m~\\anaconda3\\lib\\site-packages\\selenium\\webdriver\\remote\\webelement.py\u001b[0m in \u001b[0;36msend_keys\u001b[1;34m(self, *value)\u001b[0m\n\u001b[0;32m    221\u001b[0m                 \u001b[0mvalue\u001b[0m \u001b[1;33m=\u001b[0m \u001b[1;34m'\\n'\u001b[0m\u001b[1;33m.\u001b[0m\u001b[0mjoin\u001b[0m\u001b[1;33m(\u001b[0m\u001b[0mremote_files\u001b[0m\u001b[1;33m)\u001b[0m\u001b[1;33m\u001b[0m\u001b[1;33m\u001b[0m\u001b[0m\n\u001b[0;32m    222\u001b[0m \u001b[1;33m\u001b[0m\u001b[0m\n\u001b[1;32m--> 223\u001b[1;33m         self._execute(Command.SEND_KEYS_TO_ELEMENT,\n\u001b[0m\u001b[0;32m    224\u001b[0m                       {'text': \"\".join(keys_to_typing(value)),\n\u001b[0;32m    225\u001b[0m                        'value': keys_to_typing(value)})\n",
      "\u001b[1;32m~\\anaconda3\\lib\\site-packages\\selenium\\webdriver\\remote\\webelement.py\u001b[0m in \u001b[0;36m_execute\u001b[1;34m(self, command, params)\u001b[0m\n\u001b[0;32m    394\u001b[0m             \u001b[0mparams\u001b[0m \u001b[1;33m=\u001b[0m \u001b[1;33m{\u001b[0m\u001b[1;33m}\u001b[0m\u001b[1;33m\u001b[0m\u001b[1;33m\u001b[0m\u001b[0m\n\u001b[0;32m    395\u001b[0m         \u001b[0mparams\u001b[0m\u001b[1;33m[\u001b[0m\u001b[1;34m'id'\u001b[0m\u001b[1;33m]\u001b[0m \u001b[1;33m=\u001b[0m \u001b[0mself\u001b[0m\u001b[1;33m.\u001b[0m\u001b[0m_id\u001b[0m\u001b[1;33m\u001b[0m\u001b[1;33m\u001b[0m\u001b[0m\n\u001b[1;32m--> 396\u001b[1;33m         \u001b[1;32mreturn\u001b[0m \u001b[0mself\u001b[0m\u001b[1;33m.\u001b[0m\u001b[0m_parent\u001b[0m\u001b[1;33m.\u001b[0m\u001b[0mexecute\u001b[0m\u001b[1;33m(\u001b[0m\u001b[0mcommand\u001b[0m\u001b[1;33m,\u001b[0m \u001b[0mparams\u001b[0m\u001b[1;33m)\u001b[0m\u001b[1;33m\u001b[0m\u001b[1;33m\u001b[0m\u001b[0m\n\u001b[0m\u001b[0;32m    397\u001b[0m \u001b[1;33m\u001b[0m\u001b[0m\n\u001b[0;32m    398\u001b[0m     \u001b[1;32mdef\u001b[0m \u001b[0mfind_element\u001b[0m\u001b[1;33m(\u001b[0m\u001b[0mself\u001b[0m\u001b[1;33m,\u001b[0m \u001b[0mby\u001b[0m\u001b[1;33m=\u001b[0m\u001b[0mBy\u001b[0m\u001b[1;33m.\u001b[0m\u001b[0mID\u001b[0m\u001b[1;33m,\u001b[0m \u001b[0mvalue\u001b[0m\u001b[1;33m=\u001b[0m\u001b[1;32mNone\u001b[0m\u001b[1;33m)\u001b[0m \u001b[1;33m->\u001b[0m \u001b[0mWebElement\u001b[0m\u001b[1;33m:\u001b[0m\u001b[1;33m\u001b[0m\u001b[1;33m\u001b[0m\u001b[0m\n",
      "\u001b[1;32m~\\anaconda3\\lib\\site-packages\\selenium\\webdriver\\remote\\webdriver.py\u001b[0m in \u001b[0;36mexecute\u001b[1;34m(self, driver_command, params)\u001b[0m\n\u001b[0;32m    433\u001b[0m         \u001b[0mresponse\u001b[0m \u001b[1;33m=\u001b[0m \u001b[0mself\u001b[0m\u001b[1;33m.\u001b[0m\u001b[0mcommand_executor\u001b[0m\u001b[1;33m.\u001b[0m\u001b[0mexecute\u001b[0m\u001b[1;33m(\u001b[0m\u001b[0mdriver_command\u001b[0m\u001b[1;33m,\u001b[0m \u001b[0mparams\u001b[0m\u001b[1;33m)\u001b[0m\u001b[1;33m\u001b[0m\u001b[1;33m\u001b[0m\u001b[0m\n\u001b[0;32m    434\u001b[0m         \u001b[1;32mif\u001b[0m \u001b[0mresponse\u001b[0m\u001b[1;33m:\u001b[0m\u001b[1;33m\u001b[0m\u001b[1;33m\u001b[0m\u001b[0m\n\u001b[1;32m--> 435\u001b[1;33m             \u001b[0mself\u001b[0m\u001b[1;33m.\u001b[0m\u001b[0merror_handler\u001b[0m\u001b[1;33m.\u001b[0m\u001b[0mcheck_response\u001b[0m\u001b[1;33m(\u001b[0m\u001b[0mresponse\u001b[0m\u001b[1;33m)\u001b[0m\u001b[1;33m\u001b[0m\u001b[1;33m\u001b[0m\u001b[0m\n\u001b[0m\u001b[0;32m    436\u001b[0m             response['value'] = self._unwrap_value(\n\u001b[0;32m    437\u001b[0m                 response.get('value', None))\n",
      "\u001b[1;32m~\\anaconda3\\lib\\site-packages\\selenium\\webdriver\\remote\\errorhandler.py\u001b[0m in \u001b[0;36mcheck_response\u001b[1;34m(self, response)\u001b[0m\n\u001b[0;32m    245\u001b[0m                 \u001b[0malert_text\u001b[0m \u001b[1;33m=\u001b[0m \u001b[0mvalue\u001b[0m\u001b[1;33m[\u001b[0m\u001b[1;34m'alert'\u001b[0m\u001b[1;33m]\u001b[0m\u001b[1;33m.\u001b[0m\u001b[0mget\u001b[0m\u001b[1;33m(\u001b[0m\u001b[1;34m'text'\u001b[0m\u001b[1;33m)\u001b[0m\u001b[1;33m\u001b[0m\u001b[1;33m\u001b[0m\u001b[0m\n\u001b[0;32m    246\u001b[0m             \u001b[1;32mraise\u001b[0m \u001b[0mexception_class\u001b[0m\u001b[1;33m(\u001b[0m\u001b[0mmessage\u001b[0m\u001b[1;33m,\u001b[0m \u001b[0mscreen\u001b[0m\u001b[1;33m,\u001b[0m \u001b[0mstacktrace\u001b[0m\u001b[1;33m,\u001b[0m \u001b[0malert_text\u001b[0m\u001b[1;33m)\u001b[0m  \u001b[1;31m# type: ignore[call-arg]  # mypy is not smart enough here\u001b[0m\u001b[1;33m\u001b[0m\u001b[1;33m\u001b[0m\u001b[0m\n\u001b[1;32m--> 247\u001b[1;33m         \u001b[1;32mraise\u001b[0m \u001b[0mexception_class\u001b[0m\u001b[1;33m(\u001b[0m\u001b[0mmessage\u001b[0m\u001b[1;33m,\u001b[0m \u001b[0mscreen\u001b[0m\u001b[1;33m,\u001b[0m \u001b[0mstacktrace\u001b[0m\u001b[1;33m)\u001b[0m\u001b[1;33m\u001b[0m\u001b[1;33m\u001b[0m\u001b[0m\n\u001b[0m\u001b[0;32m    248\u001b[0m \u001b[1;33m\u001b[0m\u001b[0m\n\u001b[0;32m    249\u001b[0m     \u001b[1;32mdef\u001b[0m \u001b[0m_value_or_default\u001b[0m\u001b[1;33m(\u001b[0m\u001b[0mself\u001b[0m\u001b[1;33m,\u001b[0m \u001b[0mobj\u001b[0m\u001b[1;33m:\u001b[0m \u001b[0mMapping\u001b[0m\u001b[1;33m[\u001b[0m\u001b[0m_KT\u001b[0m\u001b[1;33m,\u001b[0m \u001b[0m_VT\u001b[0m\u001b[1;33m]\u001b[0m\u001b[1;33m,\u001b[0m \u001b[0mkey\u001b[0m\u001b[1;33m:\u001b[0m \u001b[0m_KT\u001b[0m\u001b[1;33m,\u001b[0m \u001b[0mdefault\u001b[0m\u001b[1;33m:\u001b[0m \u001b[0m_VT\u001b[0m\u001b[1;33m)\u001b[0m \u001b[1;33m->\u001b[0m \u001b[0m_VT\u001b[0m\u001b[1;33m:\u001b[0m\u001b[1;33m\u001b[0m\u001b[1;33m\u001b[0m\u001b[0m\n",
      "\u001b[1;31mElementNotInteractableException\u001b[0m: Message: element not interactable\n  (Session info: chrome=108.0.5359.95)\nStacktrace:\nBacktrace:\n\t(No symbol) [0x00A1F243]\n\t(No symbol) [0x009A7FD1]\n\t(No symbol) [0x0089CF10]\n\t(No symbol) [0x008C795E]\n\t(No symbol) [0x008C70E5]\n\t(No symbol) [0x008E858C]\n\t(No symbol) [0x008C2BFF]\n\t(No symbol) [0x008E8804]\n\t(No symbol) [0x008FC9EB]\n\t(No symbol) [0x008E8386]\n\t(No symbol) [0x008C163C]\n\t(No symbol) [0x008C269D]\n\tGetHandleVerifier [0x00CB9A22+2655074]\n\tGetHandleVerifier [0x00CACA24+2601828]\n\tGetHandleVerifier [0x00AC8C0A+619850]\n\tGetHandleVerifier [0x00AC7830+614768]\n\t(No symbol) [0x009B05FC]\n\t(No symbol) [0x009B5968]\n\t(No symbol) [0x009B5A55]\n\t(No symbol) [0x009C051B]\n\tBaseThreadInitThunk [0x75A37BA9+25]\n\tRtlInitializeExceptionChain [0x77A4BB9B+107]\n\tRtlClearBits [0x77A4BB1F+191]\n"
     ]
    }
   ],
   "source": [
    "# Click on location dropdown\n",
    "for i in driver.find_elements(\"xpath\",'//p[@class=\"body-medium text-capitalize undefined\"]'):\n",
    "    if(i.text ==\"Location\"):\n",
    "        print('inside loop')\n",
    "        i.click()\n",
    "        time.sleep(1)\n",
    "        \n",
    "# enter noida in location textbox\n",
    "l=driver.find_element(\"xpath\",\"/html/body/div[2]/div/div/div[2]/div[1]/div[2]/div[1]/div/div/div/div[2]/div[2]/div/div[2]/input\")\n",
    "l.send_keys(\"Noida\")\n",
    "\n",
    "# select noida as input\n",
    "driver.find_element(\"xpath\",\"/html/body/div[2]/div/div/div[2]/div[1]/div[2]/div[1]/div/div/div/div[2]/div[2]/div/div[3]/div[1]/div[1]/div/label\").click()"
   ]
  },
  {
   "cell_type": "code",
   "execution_count": 370,
   "id": "63cfcd70",
   "metadata": {},
   "outputs": [
    {
     "name": "stdout",
     "output_type": "stream",
     "text": [
      "HCLTech\n",
      " · \n",
      "3.8\n",
      "based on 18.9k Reviews\n",
      "\n",
      "\n",
      "\n",
      "\n",
      "\n",
      "\n",
      "\n",
      "\n",
      "\n",
      "\n"
     ]
    }
   ],
   "source": [
    "comp=[]\n",
    "ts=[]\n",
    "rate=[]\n",
    "\n",
    "c= driver.find_elements(\"xpath\",'//div[@class=\"company-info\"]')\n",
    "for i in c:\n",
    "    print(i.text)"
   ]
  },
  {
   "cell_type": "code",
   "execution_count": 363,
   "id": "bed95e33",
   "metadata": {},
   "outputs": [],
   "source": []
  },
  {
   "cell_type": "code",
   "execution_count": null,
   "id": "24ba2a0b",
   "metadata": {},
   "outputs": [],
   "source": []
  }
 ],
 "metadata": {
  "kernelspec": {
   "display_name": "Python 3 (ipykernel)",
   "language": "python",
   "name": "python3"
  },
  "language_info": {
   "codemirror_mode": {
    "name": "ipython",
    "version": 3
   },
   "file_extension": ".py",
   "mimetype": "text/x-python",
   "name": "python",
   "nbconvert_exporter": "python",
   "pygments_lexer": "ipython3",
   "version": "3.9.7"
  }
 },
 "nbformat": 4,
 "nbformat_minor": 5
}
