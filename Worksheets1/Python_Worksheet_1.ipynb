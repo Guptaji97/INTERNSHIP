{
 "cells": [
  {
   "cell_type": "code",
   "execution_count": 1,
   "id": "168833ce",
   "metadata": {},
   "outputs": [
    {
     "name": "stdout",
     "output_type": "stream",
     "text": [
      "Enter a number to get factorial: 5\n",
      "Factorial of 5 is 120\n"
     ]
    }
   ],
   "source": [
    "#Write a python program to find the factorial of a number.\n",
    "def fact(a):\n",
    "    if a==0 or a==1:\n",
    "        return 1\n",
    "    else:\n",
    "        return (a*fact(a-1))\n",
    "\n",
    "n=int(input(\"Enter a number to get factorial: \"))\n",
    "print(\"Factorial of {0} is {1}\".format(n,fact(n)))"
   ]
  },
  {
   "cell_type": "code",
   "execution_count": 4,
   "id": "8f36aa7f",
   "metadata": {},
   "outputs": [
    {
     "name": "stdout",
     "output_type": "stream",
     "text": [
      "Enter a number: 9\n",
      "9 is a Composite number\n"
     ]
    }
   ],
   "source": [
    "# Write a python program to find whether a number is prime or composite.\n",
    "def prime(a):\n",
    "    i=2\n",
    "    while i<a:\n",
    "        if a%i==0:\n",
    "            return(\"Composite\")\n",
    "        i+=1\n",
    "    if i==a:\n",
    "        return(\"Prime\")\n",
    "        \n",
    "n=int(input(\"Enter a number: \"))\n",
    "if n!=0:\n",
    "    if n==1:\n",
    "        print(\"1 is neither prime nor composite\")\n",
    "    else:\n",
    "        print(\"{0} is a {1} number\".format(n,prime(n)))\n",
    "else:\n",
    "    print(\"Enter a natural number\")"
   ]
  },
  {
   "cell_type": "code",
   "execution_count": 6,
   "id": "7db689f0",
   "metadata": {},
   "outputs": [
    {
     "name": "stdout",
     "output_type": "stream",
     "text": [
      "Enter a string to check if it's palindrome: naman\n",
      "naman is a palindrome\n"
     ]
    }
   ],
   "source": [
    "#Write a python program to check whether a given string is palindrome or not\n",
    "def pal(a):\n",
    "    b=a.copy()\n",
    "    a.reverse()\n",
    "    if a==b:\n",
    "        return(\"a palindrome\")\n",
    "    else:\n",
    "        return(\"Not a palindrome\")\n",
    "\n",
    "m=input(\"Enter a string to check if it's palindrome: \")\n",
    "n=m.upper()\n",
    "a=list(n)\n",
    "print(\"{0} is {1}\".format(m,pal(a)))"
   ]
  },
  {
   "cell_type": "code",
   "execution_count": 7,
   "id": "c5d21d7d",
   "metadata": {},
   "outputs": [
    {
     "name": "stdout",
     "output_type": "stream",
     "text": [
      "Enter First side: 3\n",
      "Enter Second side: 4\n",
      "Length of the third side is:  5.0\n"
     ]
    }
   ],
   "source": [
    "#Write a Python program to get the third side of right-angled triangle from two given sides\n",
    "a=int(input(\"Enter First side: \"))\n",
    "b=int(input(\"Enter Second side: \"))\n",
    "c=((a*a)+(b*b))**(1/2)\n",
    "print(\"Length of the third side is: \",c)\n"
   ]
  },
  {
   "cell_type": "code",
   "execution_count": 10,
   "id": "27d39034",
   "metadata": {},
   "outputs": [
    {
     "name": "stdout",
     "output_type": "stream",
     "text": [
      "Enter a string: Aman\n",
      "Frequency of A is 2\n",
      "Frequency of M is 1\n",
      "Frequency of N is 1\n"
     ]
    }
   ],
   "source": [
    "#Write a python program to print the frequency of each of the characters present in a given string\n",
    "#Method1\n",
    "a=input(\"Enter a string: \")\n",
    "c=a.upper()\n",
    "b=set(c)\n",
    "b=sorted(b)\n",
    "for i in b:\n",
    "    print(\"Frequency of {0} is {1}\".format(i, c.count(i)))"
   ]
  },
  {
   "cell_type": "code",
   "execution_count": 11,
   "id": "9b8a2afa",
   "metadata": {},
   "outputs": [
    {
     "name": "stdout",
     "output_type": "stream",
     "text": [
      "Enter a string: Aman\n",
      "Frequency of letters are as follows:\n",
      " {'A': 2, 'M': 1, 'N': 1}\n"
     ]
    }
   ],
   "source": [
    "#Method2\n",
    "a=input(\"Enter a string: \")\n",
    "c=a.upper()\n",
    "b={}\n",
    "for i in c:\n",
    "    if i not in b:\n",
    "        b[i]=1\n",
    "    else:\n",
    "        b[i]+=1\n",
    "print(\"Frequency of letters are as follows:\\n\", b)"
   ]
  },
  {
   "cell_type": "code",
   "execution_count": null,
   "id": "73023214",
   "metadata": {},
   "outputs": [],
   "source": []
  }
 ],
 "metadata": {
  "kernelspec": {
   "display_name": "Python 3 (ipykernel)",
   "language": "python",
   "name": "python3"
  },
  "language_info": {
   "codemirror_mode": {
    "name": "ipython",
    "version": 3
   },
   "file_extension": ".py",
   "mimetype": "text/x-python",
   "name": "python",
   "nbconvert_exporter": "python",
   "pygments_lexer": "ipython3",
   "version": "3.9.16"
  }
 },
 "nbformat": 4,
 "nbformat_minor": 5
}
